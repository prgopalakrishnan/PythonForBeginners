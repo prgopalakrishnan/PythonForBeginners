{
 "cells": [
  {
   "cell_type": "markdown",
   "id": "98c31b29-4b4a-4ea2-9415-543221c7ac2a",
   "metadata": {},
   "source": [
    "# Table of Contents\n",
    "- Data Types\n",
    "  - Integer - int\n",
    "  - Float - float\n",
    "  - String - str\n",
    "  - Boolean - bool\n",
    "- Operators\n",
    "  - Comparison Operators\n",
    "     - Equals ==\n",
    "     - Greater than >\n",
    "     - Greater than or equal to >=\n",
    "     - Less than <\n",
    "     - Less than or equal to <=\n",
    "     - Not Equal !=\n",
    "  - Logical Operators\n",
    "     - AND and\n",
    "     - OR or\n",
    "     - NOT not\n",
    "- Collections\n",
    "  - Lists - Define, Index, Add, Delete, Update\n",
    "  - Tuples - Define, Index, Add,Delete,Update not Supported\n",
    "  - Dictionaries - Define, Index, Add, Delete, Update\n"
   ]
  },
  {
   "cell_type": "markdown",
   "id": "9fd570e1-3143-4f8e-a04e-2f3b0c6bba0a",
   "metadata": {},
   "source": [
    "# Integer Type Play\n"
   ]
  },
  {
   "cell_type": "code",
   "execution_count": 6,
   "id": "9d9fd0e3-e3e6-4a17-b591-f180beec0d65",
   "metadata": {
    "scrolled": true
   },
   "outputs": [
    {
     "data": {
      "text/plain": [
       "int"
      ]
     },
     "execution_count": 6,
     "metadata": {},
     "output_type": "execute_result"
    }
   ],
   "source": [
    "x = 2\n",
    "type(x)"
   ]
  },
  {
   "cell_type": "code",
   "execution_count": 10,
   "id": "77a5614c-ff8a-49f1-b902-20da102027ea",
   "metadata": {},
   "outputs": [
    {
     "data": {
      "text/plain": [
       "int"
      ]
     },
     "execution_count": 10,
     "metadata": {},
     "output_type": "execute_result"
    }
   ],
   "source": [
    "type(2)"
   ]
  },
  {
   "cell_type": "markdown",
   "id": "a9251529-3c6d-46fa-9233-0d2fd9c184e1",
   "metadata": {},
   "source": [
    "# Float Type Play\n"
   ]
  },
  {
   "cell_type": "code",
   "execution_count": 7,
   "id": "18e1dd80-c4c4-4886-bc6d-26222f48a070",
   "metadata": {},
   "outputs": [
    {
     "data": {
      "text/plain": [
       "float"
      ]
     },
     "execution_count": 7,
     "metadata": {},
     "output_type": "execute_result"
    }
   ],
   "source": [
    "x = 3.0\n",
    "type(x)"
   ]
  },
  {
   "cell_type": "code",
   "execution_count": 11,
   "id": "c9f98b43-1672-4995-8280-f84d09a98021",
   "metadata": {},
   "outputs": [
    {
     "data": {
      "text/plain": [
       "float"
      ]
     },
     "execution_count": 11,
     "metadata": {},
     "output_type": "execute_result"
    }
   ],
   "source": [
    "type(3.0)"
   ]
  },
  {
   "cell_type": "markdown",
   "id": "d992703e-bfce-4add-976f-ecb638a035a5",
   "metadata": {},
   "source": [
    "# String Type Play"
   ]
  },
  {
   "cell_type": "code",
   "execution_count": 8,
   "id": "a5310647-323f-4027-afe5-012819bd8efc",
   "metadata": {},
   "outputs": [
    {
     "data": {
      "text/plain": [
       "str"
      ]
     },
     "execution_count": 8,
     "metadata": {},
     "output_type": "execute_result"
    }
   ],
   "source": [
    "x = \"Hello World\"\n",
    "type(x)"
   ]
  },
  {
   "cell_type": "code",
   "execution_count": 12,
   "id": "9733b20e-14d3-4c90-ab03-f5d075a1998b",
   "metadata": {},
   "outputs": [
    {
     "data": {
      "text/plain": [
       "str"
      ]
     },
     "execution_count": 12,
     "metadata": {},
     "output_type": "execute_result"
    }
   ],
   "source": [
    "type(\"Hello World\")"
   ]
  },
  {
   "cell_type": "markdown",
   "id": "666c38d2-dfd0-4f6a-9d49-526dd98b6703",
   "metadata": {},
   "source": [
    "# Boolean Type Play"
   ]
  },
  {
   "cell_type": "code",
   "execution_count": 9,
   "id": "937f3da2-3555-42c2-ad59-a0c143f9cb20",
   "metadata": {},
   "outputs": [
    {
     "data": {
      "text/plain": [
       "bool"
      ]
     },
     "execution_count": 9,
     "metadata": {},
     "output_type": "execute_result"
    }
   ],
   "source": [
    "x = False\n",
    "type(x)"
   ]
  },
  {
   "cell_type": "code",
   "execution_count": 13,
   "id": "0b7b6dc7-5786-4498-b3a2-bae38f8c5368",
   "metadata": {},
   "outputs": [
    {
     "data": {
      "text/plain": [
       "bool"
      ]
     },
     "execution_count": 13,
     "metadata": {},
     "output_type": "execute_result"
    }
   ],
   "source": [
    "type(True)"
   ]
  },
  {
   "cell_type": "markdown",
   "id": "793cdcb8-0716-41bd-b275-d02d89451288",
   "metadata": {},
   "source": [
    "# Equals == Operator Play"
   ]
  },
  {
   "cell_type": "code",
   "execution_count": 15,
   "id": "6255f553-9533-40dc-ab85-3d54d5ff2dbe",
   "metadata": {},
   "outputs": [
    {
     "name": "stdout",
     "output_type": "stream",
     "text": [
      "True\n",
      "False\n"
     ]
    }
   ],
   "source": [
    "x = 3\n",
    "y = 3\n",
    "z = 5\n",
    "print (x == y)\n",
    "print (x == z)"
   ]
  },
  {
   "cell_type": "markdown",
   "id": "02d21ef2-d1d1-4c1b-aa74-8cb5405407a3",
   "metadata": {},
   "source": [
    "# Greater than > Operator Play"
   ]
  },
  {
   "cell_type": "code",
   "execution_count": 17,
   "id": "882653ad-479f-46be-871e-3f185611d720",
   "metadata": {},
   "outputs": [
    {
     "name": "stdout",
     "output_type": "stream",
     "text": [
      "False\n"
     ]
    }
   ],
   "source": [
    "x = 5\n",
    "y = 9\n",
    "print(x > y)"
   ]
  },
  {
   "cell_type": "markdown",
   "id": "b1948cbb-ecc9-4cfd-9a3b-e8a98e0c79ab",
   "metadata": {},
   "source": [
    "# Greater than or equal to >= Operator Play\n",
    "    "
   ]
  },
  {
   "cell_type": "code",
   "execution_count": 18,
   "id": "9eb89618-bd99-4ea9-abcc-6c449db1fa93",
   "metadata": {},
   "outputs": [
    {
     "name": "stdout",
     "output_type": "stream",
     "text": [
      "False\n"
     ]
    }
   ],
   "source": [
    "x = 5\n",
    "y = 9\n",
    "print(x >= y)"
   ]
  },
  {
   "cell_type": "markdown",
   "id": "e91f8e96-5834-4b31-ade9-9ded693c3e5a",
   "metadata": {},
   "source": [
    "# Less than < Operator Play\n",
    "     "
   ]
  },
  {
   "cell_type": "code",
   "execution_count": 19,
   "id": "a37a196c-1e37-40b8-9f07-199795a6990c",
   "metadata": {},
   "outputs": [
    {
     "name": "stdout",
     "output_type": "stream",
     "text": [
      "True\n"
     ]
    }
   ],
   "source": [
    "x = 5\n",
    "y = 9\n",
    "print(x < y)"
   ]
  },
  {
   "cell_type": "markdown",
   "id": "3f06a2d0-ab9f-4fba-879d-7630a6300ce6",
   "metadata": {},
   "source": [
    "# Less than or equal to <= Operator Play\n",
    "    "
   ]
  },
  {
   "cell_type": "code",
   "execution_count": 20,
   "id": "5d8cec12-7236-44a4-ab55-6e8c4c343fcb",
   "metadata": {},
   "outputs": [
    {
     "name": "stdout",
     "output_type": "stream",
     "text": [
      "True\n"
     ]
    }
   ],
   "source": [
    "x = 5\n",
    "y = 9\n",
    "print(x <= y)"
   ]
  },
  {
   "cell_type": "markdown",
   "id": "8af2e6e5-e460-43b8-bd54-593ab85cb827",
   "metadata": {},
   "source": [
    "# Not Equal != Operator Play\n",
    " "
   ]
  },
  {
   "cell_type": "code",
   "execution_count": 21,
   "id": "e4a05017-dc92-4c14-af08-3f642ae8be32",
   "metadata": {},
   "outputs": [
    {
     "name": "stdout",
     "output_type": "stream",
     "text": [
      "True\n"
     ]
    }
   ],
   "source": [
    "x = 5\n",
    "y = 9\n",
    "print(x != y)"
   ]
  },
  {
   "cell_type": "markdown",
   "id": "20cdacd8-950f-4651-989b-7abdc607a1bf",
   "metadata": {},
   "source": [
    "# Logical Operators AND and Operator Play\n",
    "# and Truth Table\n",
    "\n",
    "Rule:\n",
    "If the first operand is falsy → return it.\n",
    "Otherwise → return the second operand.\n",
    "\n",
    "# x\t      y\t    x and y\n",
    "False\tFalse\tFalse\n",
    "False\tTrue\tFalse\n",
    "True\tFalse\tFalse\n",
    "True\tTrue\tTrue\n",
    "0\t    5\t    0\n",
    "5\t    0\t    0\n",
    "5\t    9\t    9\n",
    "\"\"\t   \"Hi\"\t    \"\"\n",
    "\"Hi\"   \"World\"\t\"World\""
   ]
  },
  {
   "cell_type": "code",
   "execution_count": 23,
   "id": "00e6527f-016f-4691-aaac-7328f223dee4",
   "metadata": {},
   "outputs": [
    {
     "name": "stdout",
     "output_type": "stream",
     "text": [
      "9\n"
     ]
    }
   ],
   "source": [
    "x = 5\n",
    "y = 9\n",
    "z = x and y\n",
    "print(z)"
   ]
  },
  {
   "cell_type": "markdown",
   "id": "943bcff9-8d2c-4086-bfe8-412ada630117",
   "metadata": {},
   "source": [
    "# Logical Operators OR or Operator Play\n",
    "# or Truth Table\n",
    "\n",
    "Rule:\n",
    "If the first operand is truthy → return it.\n",
    "Otherwise → return the second operand.\n",
    "\n",
    "x\t     y\t    x or y\n",
    "False\tFalse\tFalse\n",
    "False\tTrue\tTrue\n",
    "True\tFalse\tTrue\n",
    "True\tTrue\tTrue\n",
    "0\t    5\t    5\n",
    "5\t    0\t    5\n",
    "\"\"\t    \"Hi\"\t\"Hi\"\n",
    "\"Hi\"\t\"World\"\t\"Hi\""
   ]
  },
  {
   "cell_type": "code",
   "execution_count": 24,
   "id": "f4373420-2d8c-4b44-93fd-ab4cbef36920",
   "metadata": {},
   "outputs": [
    {
     "name": "stdout",
     "output_type": "stream",
     "text": [
      "5\n"
     ]
    }
   ],
   "source": [
    "x = 5\n",
    "y = 9\n",
    "z = x or y\n",
    "print(z)"
   ]
  },
  {
   "cell_type": "markdown",
   "id": "0c280510-a480-48b5-a101-15f7b4e1934b",
   "metadata": {},
   "source": [
    "# Logical Operators NOT not Operator Play\n",
    "# not Truth Table\n",
    "\n",
    "Rule: Always returns a Boolean (True/False), regardless of operand type.\n",
    "\n",
    "# x\t    not x\n",
    "False\tTrue\n",
    "True\tFalse\n",
    "0\t    True\n",
    "5\t    False\n",
    "\"\"\t    True\n",
    "\"Hi\"\tFalse"
   ]
  },
  {
   "cell_type": "code",
   "execution_count": 25,
   "id": "4c826411-fb68-4996-8cd9-41d6b7bf0660",
   "metadata": {},
   "outputs": [
    {
     "name": "stdout",
     "output_type": "stream",
     "text": [
      "False\n"
     ]
    }
   ],
   "source": [
    "x = 5\n",
    "z = not x\n",
    "print(z)"
   ]
  },
  {
   "cell_type": "markdown",
   "id": "11c83e78-3c86-45ff-981b-e1dbf27102b1",
   "metadata": {},
   "source": [
    "# Collections - Lists "
   ]
  },
  {
   "cell_type": "code",
   "execution_count": 32,
   "id": "71729cd1-bc76-4346-8d10-39a6effe8430",
   "metadata": {},
   "outputs": [
    {
     "name": "stdout",
     "output_type": "stream",
     "text": [
      "2\n"
     ]
    }
   ],
   "source": [
    "#define list\n",
    "numberlist = [1,2,3,4,5]\n",
    "\n",
    "#index list\n",
    "print(numberlist[1])"
   ]
  },
  {
   "cell_type": "code",
   "execution_count": 33,
   "id": "4c439414-437b-4278-be54-d259e5e3bb70",
   "metadata": {},
   "outputs": [
    {
     "name": "stdout",
     "output_type": "stream",
     "text": [
      "3\n"
     ]
    }
   ],
   "source": [
    "#define list of list\n",
    "listofList = [[\"a\",1], [\"b\",2], [\"c\",3]]\n",
    "\n",
    "#index list of list\n",
    "print(listofList[2][1])     "
   ]
  },
  {
   "cell_type": "code",
   "execution_count": 34,
   "id": "45cefda9-171c-44df-95d3-9f561b4044ab",
   "metadata": {},
   "outputs": [
    {
     "name": "stdout",
     "output_type": "stream",
     "text": [
      "[3, 4]\n"
     ]
    }
   ],
   "source": [
    "#copy part of one list to another\n",
    "list1 = [2,3,4,5]\n",
    "list2 = list1[1:3] #slice list - lower bound inclusive, upper bound exclusive\n",
    "print(list2)"
   ]
  },
  {
   "cell_type": "code",
   "execution_count": 35,
   "id": "2d7f71ab-c378-495e-ae19-229c25947683",
   "metadata": {},
   "outputs": [
    {
     "name": "stdout",
     "output_type": "stream",
     "text": [
      "[1, 2, 3, 4, 5, 6]\n"
     ]
    }
   ],
   "source": [
    "# Add to List\n",
    "list1 = [1,2,3,4]\n",
    "list2 = [5,6]\n",
    "list1 = list1 + list2;\n",
    "print(list1)"
   ]
  },
  {
   "cell_type": "code",
   "execution_count": 36,
   "id": "e584fc46-4b21-468f-aad6-6f4e736e8650",
   "metadata": {},
   "outputs": [
    {
     "name": "stdout",
     "output_type": "stream",
     "text": [
      "[1, 3, 4, 5, 6]\n"
     ]
    }
   ],
   "source": [
    "#Delete from list\n",
    "list1 = [1,2,3,4,5,6]\n",
    "del(list1[1])\n",
    "print(list1)"
   ]
  },
  {
   "cell_type": "code",
   "execution_count": 38,
   "id": "9b6417ff-dc8e-4008-bac9-6a44384b239f",
   "metadata": {},
   "outputs": [
    {
     "name": "stdout",
     "output_type": "stream",
     "text": [
      "[1, 7, 3, 4, 5, 6]\n"
     ]
    }
   ],
   "source": [
    "#Update list\n",
    "list = [1,2,3,4,5,6]\n",
    "list[1] = 7\n",
    "print(list)"
   ]
  },
  {
   "cell_type": "markdown",
   "id": "20baaabf-4fb3-4a29-9ce7-37720268f767",
   "metadata": {},
   "source": [
    "# Collections - Tuples\n",
    "Tuples are immutable while lists are mutable"
   ]
  },
  {
   "cell_type": "code",
   "execution_count": 40,
   "id": "e76d564d-0150-4041-b271-833c693c253f",
   "metadata": {},
   "outputs": [
    {
     "name": "stdout",
     "output_type": "stream",
     "text": [
      "2\n"
     ]
    }
   ],
   "source": [
    "#define Tuple\n",
    "numberTuple = (1,2,3,4,5)\n",
    "\n",
    "#index tuple\n",
    "print(numberTuple[1])"
   ]
  },
  {
   "cell_type": "code",
   "execution_count": 41,
   "id": "873471db-7d25-4106-966c-6de9c7d208fe",
   "metadata": {},
   "outputs": [
    {
     "name": "stdout",
     "output_type": "stream",
     "text": [
      "3\n"
     ]
    }
   ],
   "source": [
    "#define Tuple of Tuple\n",
    "tupleofTuple = ((\"a\",1), (\"b\",2), (\"c\",3))\n",
    "\n",
    "#index Tuple of Tuple\n",
    "print(tupleofTuple[2][1])  "
   ]
  },
  {
   "cell_type": "code",
   "execution_count": 44,
   "id": "658762ec-8c4b-42f6-b753-d2b902ca0b43",
   "metadata": {},
   "outputs": [
    {
     "name": "stdout",
     "output_type": "stream",
     "text": [
      "(3, 4)\n"
     ]
    }
   ],
   "source": [
    "#copy part of one tuple to another\n",
    "tuple1 = (2,3,4,5)\n",
    "tuple2 = tuple1[1:3] #slice list - lower bound inclusive, upper bound exclusive\n",
    "print(tuple2)"
   ]
  },
  {
   "cell_type": "code",
   "execution_count": 46,
   "id": "790c8cd3-4d33-4288-8ef0-24e653805dfc",
   "metadata": {},
   "outputs": [
    {
     "name": "stdout",
     "output_type": "stream",
     "text": [
      "(1, 2, 3, 4, 5, 6)\n"
     ]
    }
   ],
   "source": [
    "# Add to List\n",
    "tuple1 = (1,2,3,4)\n",
    "tuple2 = (5,6)\n",
    "tuple1 = tuple1 + tuple2;\n",
    "print(tuple1)"
   ]
  },
  {
   "cell_type": "code",
   "execution_count": 47,
   "id": "253d9d66-8767-452f-9636-074704e7a019",
   "metadata": {},
   "outputs": [
    {
     "ename": "TypeError",
     "evalue": "'tuple' object doesn't support item deletion",
     "output_type": "error",
     "traceback": [
      "\u001b[0;31m---------------------------------------------------------------------------\u001b[0m",
      "\u001b[0;31mTypeError\u001b[0m                                 Traceback (most recent call last)",
      "Cell \u001b[0;32mIn[47], line 3\u001b[0m\n\u001b[1;32m      1\u001b[0m \u001b[38;5;66;03m#Delete from list\u001b[39;00m\n\u001b[1;32m      2\u001b[0m tuple1 \u001b[38;5;241m=\u001b[39m (\u001b[38;5;241m1\u001b[39m,\u001b[38;5;241m2\u001b[39m,\u001b[38;5;241m3\u001b[39m,\u001b[38;5;241m4\u001b[39m,\u001b[38;5;241m5\u001b[39m,\u001b[38;5;241m6\u001b[39m)\n\u001b[0;32m----> 3\u001b[0m \u001b[38;5;28;01mdel\u001b[39;00m(tuple1[\u001b[38;5;241m1\u001b[39m])\n\u001b[1;32m      4\u001b[0m \u001b[38;5;28mprint\u001b[39m(tuple1)\n",
      "\u001b[0;31mTypeError\u001b[0m: 'tuple' object doesn't support item deletion"
     ]
    }
   ],
   "source": [
    "#Delete from list\n",
    "tuple1 = (1,2,3,4,5,6)\n",
    "del(tuple1[1]) #error thrown as tuple dosent support mutation\n",
    "print(tuple1)"
   ]
  },
  {
   "cell_type": "code",
   "execution_count": 48,
   "id": "60ba8237-dcec-4323-830a-e2680306cf13",
   "metadata": {},
   "outputs": [
    {
     "ename": "TypeError",
     "evalue": "'tuple' object does not support item assignment",
     "output_type": "error",
     "traceback": [
      "\u001b[0;31m---------------------------------------------------------------------------\u001b[0m",
      "\u001b[0;31mTypeError\u001b[0m                                 Traceback (most recent call last)",
      "Cell \u001b[0;32mIn[48], line 3\u001b[0m\n\u001b[1;32m      1\u001b[0m \u001b[38;5;66;03m#Update tuple - throws error\u001b[39;00m\n\u001b[1;32m      2\u001b[0m \u001b[38;5;28mtuple\u001b[39m \u001b[38;5;241m=\u001b[39m (\u001b[38;5;241m1\u001b[39m,\u001b[38;5;241m2\u001b[39m,\u001b[38;5;241m3\u001b[39m,\u001b[38;5;241m4\u001b[39m,\u001b[38;5;241m5\u001b[39m,\u001b[38;5;241m6\u001b[39m)\n\u001b[0;32m----> 3\u001b[0m \u001b[38;5;28mtuple\u001b[39m[\u001b[38;5;241m1\u001b[39m] \u001b[38;5;241m=\u001b[39m \u001b[38;5;241m7\u001b[39m\n\u001b[1;32m      4\u001b[0m \u001b[38;5;28mprint\u001b[39m(\u001b[38;5;28mtuple\u001b[39m)\n",
      "\u001b[0;31mTypeError\u001b[0m: 'tuple' object does not support item assignment"
     ]
    }
   ],
   "source": [
    "#Update tuple - throws error\n",
    "tuple = (1,2,3,4,5,6)\n",
    "tuple[1] = 7\n",
    "print(tuple)"
   ]
  },
  {
   "cell_type": "code",
   "execution_count": 51,
   "id": "084ecc74-56b3-4b94-b4a3-20890f4189a0",
   "metadata": {},
   "outputs": [
    {
     "name": "stdout",
     "output_type": "stream",
     "text": [
      "2 1 2 3\n"
     ]
    }
   ],
   "source": [
    "#Assign tuple elements as variables\n",
    "tuple = (1,2,3)\n",
    "var1 = tuple[1]\n",
    "var2, var3, var4 = tuple\n",
    "print(var1, var2, var3, var4)"
   ]
  },
  {
   "cell_type": "markdown",
   "id": "989bc205-a051-4e50-ae23-2ff4faa3f7f7",
   "metadata": {},
   "source": [
    "# Collections - Dictionaries: key/value map"
   ]
  },
  {
   "cell_type": "code",
   "execution_count": 53,
   "id": "76f3e8f0-5c19-4458-9af0-ecf5f189f409",
   "metadata": {},
   "outputs": [
    {
     "name": "stdout",
     "output_type": "stream",
     "text": [
      "1\n"
     ]
    }
   ],
   "source": [
    "#define dictionaries\n",
    "dict = {\"a\":1,\n",
    "        \"b\":2,\n",
    "        \"c\":3,\n",
    "        \"d\":4,\n",
    "        \"e\":5\n",
    "       }\n",
    "\n",
    "#index dict\n",
    "print(dict[\"a\"])"
   ]
  },
  {
   "cell_type": "code",
   "execution_count": 56,
   "id": "cbf50b5f-e5bd-4600-b819-d3cada2f4945",
   "metadata": {},
   "outputs": [
    {
     "name": "stdout",
     "output_type": "stream",
     "text": [
      "Bangalore\n"
     ]
    }
   ],
   "source": [
    "#define dict of dict\n",
    "dictofDict = { \n",
    " \"Cars\":\n",
    "    {\"honda\":\"grey\",\n",
    "     \"maruti\":\"white\",\n",
    "     \"jeep\":\"black\"\n",
    "    },\n",
    " \"Countries\":\n",
    "     {\"US\":\"Washington\",\n",
    "      \"india\":\"Bangalore\"\n",
    "     }\n",
    "}\n",
    "    \n",
    "\n",
    "#index dict of dict\n",
    "print(dictofDict[\"Countries\"][\"india\"])     "
   ]
  },
  {
   "cell_type": "code",
   "execution_count": 58,
   "id": "f232b238-c3bf-417b-bb20-16cbdc4028ba",
   "metadata": {},
   "outputs": [
    {
     "name": "stdout",
     "output_type": "stream",
     "text": [
      "{'a': 1, 'b': 2, 'c': 3, 'd': 4, 'e': 5}\n"
     ]
    }
   ],
   "source": [
    "# Add to dict\n",
    "dict1 = {\"a\":1, \"b\":2, \"c\":3}\n",
    "dict2 = {\"d\":4, \"e\":5}\n",
    "dict1 = dict1 | dict2;\n",
    "print(dict1)"
   ]
  },
  {
   "cell_type": "code",
   "execution_count": 60,
   "id": "8dcac17b-c866-4895-86b5-85e34cf192b4",
   "metadata": {},
   "outputs": [
    {
     "name": "stdout",
     "output_type": "stream",
     "text": [
      "{'a': 1, 'c': 3}\n"
     ]
    }
   ],
   "source": [
    "#Delete from dict\n",
    "dict1 = {\"a\":1, \"b\":2, \"c\":3}\n",
    "del(dict1[\"b\"])\n",
    "print(dict1)"
   ]
  },
  {
   "cell_type": "code",
   "execution_count": 61,
   "id": "ee899459-7cac-4326-88a9-4c6b47822eb2",
   "metadata": {},
   "outputs": [
    {
     "name": "stdout",
     "output_type": "stream",
     "text": [
      "{'a': 1, 'b': 7, 'c': 3}\n"
     ]
    }
   ],
   "source": [
    "#Update dict\n",
    "dict = {\"a\":1, \"b\":2, \"c\":3}\n",
    "dict[\"b\"] = 7\n",
    "print(dict)"
   ]
  },
  {
   "cell_type": "code",
   "execution_count": 70,
   "id": "56333975-4689-4089-a0bf-980be8d8c469",
   "metadata": {},
   "outputs": [
    {
     "name": "stdout",
     "output_type": "stream",
     "text": [
      "<class 'pandas.core.frame.DataFrame'>\n",
      "RangeIndex: 3 entries, 0 to 2\n",
      "Data columns (total 2 columns):\n",
      " #   Column  Non-Null Count  Dtype \n",
      "---  ------  --------------  ----- \n",
      " 0   name    3 non-null      object\n",
      " 1   height  3 non-null      int64 \n",
      "dtypes: int64(1), object(1)\n",
      "memory usage: 180.0+ bytes\n"
     ]
    },
    {
     "data": {
      "text/html": [
       "<div>\n",
       "<style scoped>\n",
       "    .dataframe tbody tr th:only-of-type {\n",
       "        vertical-align: middle;\n",
       "    }\n",
       "\n",
       "    .dataframe tbody tr th {\n",
       "        vertical-align: top;\n",
       "    }\n",
       "\n",
       "    .dataframe thead th {\n",
       "        text-align: right;\n",
       "    }\n",
       "</style>\n",
       "<table border=\"1\" class=\"dataframe\">\n",
       "  <thead>\n",
       "    <tr style=\"text-align: right;\">\n",
       "      <th></th>\n",
       "      <th>name</th>\n",
       "      <th>height</th>\n",
       "    </tr>\n",
       "  </thead>\n",
       "  <tbody>\n",
       "    <tr>\n",
       "      <th>0</th>\n",
       "      <td>mary</td>\n",
       "      <td>6</td>\n",
       "    </tr>\n",
       "    <tr>\n",
       "      <th>1</th>\n",
       "      <td>john</td>\n",
       "      <td>5</td>\n",
       "    </tr>\n",
       "    <tr>\n",
       "      <th>2</th>\n",
       "      <td>rosy</td>\n",
       "      <td>4</td>\n",
       "    </tr>\n",
       "  </tbody>\n",
       "</table>\n",
       "</div>"
      ],
      "text/plain": [
       "   name  height\n",
       "0  mary       6\n",
       "1  john       5\n",
       "2  rosy       4"
      ]
     },
     "execution_count": 70,
     "metadata": {},
     "output_type": "execute_result"
    }
   ],
   "source": [
    "import pandas as pd\n",
    "dict = {'name':['mary','john','rosy'], 'height':[6,5,4]}\n",
    "dataframe = pd.DataFrame(dict)\n",
    "dataframe.info()\n",
    "dataframe.describe()\n",
    "dataframe.head()\n",
    "dataframe.tail()"
   ]
  },
  {
   "cell_type": "code",
   "execution_count": 63,
   "id": "afb27c24-669f-4757-ad72-e4b9ceb94c7a",
   "metadata": {},
   "outputs": [
    {
     "data": {
      "text/plain": [
       "array([1, 2, 3, 4])"
      ]
     },
     "execution_count": 63,
     "metadata": {},
     "output_type": "execute_result"
    }
   ],
   "source": [
    "import numpy as np\n",
    "import pandas as pd\n",
    "\n",
    "np.array([1,2,3,4])\n"
   ]
  },
  {
   "cell_type": "code",
   "execution_count": 79,
   "id": "fab4ec3d-782a-4d39-aa74-0b92c4542269",
   "metadata": {},
   "outputs": [
    {
     "data": {
      "text/html": [
       "<div>\n",
       "<style scoped>\n",
       "    .dataframe tbody tr th:only-of-type {\n",
       "        vertical-align: middle;\n",
       "    }\n",
       "\n",
       "    .dataframe tbody tr th {\n",
       "        vertical-align: top;\n",
       "    }\n",
       "\n",
       "    .dataframe thead th {\n",
       "        text-align: right;\n",
       "    }\n",
       "</style>\n",
       "<table border=\"1\" class=\"dataframe\">\n",
       "  <thead>\n",
       "    <tr style=\"text-align: right;\">\n",
       "      <th></th>\n",
       "      <th>Date</th>\n",
       "      <th>Consumption</th>\n",
       "      <th>Wind</th>\n",
       "      <th>Solar</th>\n",
       "      <th>Wind+Solar</th>\n",
       "    </tr>\n",
       "  </thead>\n",
       "  <tbody>\n",
       "    <tr>\n",
       "      <th>0</th>\n",
       "      <td>2015-01-01</td>\n",
       "      <td>1111.33600</td>\n",
       "      <td>325.128</td>\n",
       "      <td>17.079</td>\n",
       "      <td>342.207</td>\n",
       "    </tr>\n",
       "    <tr>\n",
       "      <th>1</th>\n",
       "      <td>2015-01-02</td>\n",
       "      <td>1300.88400</td>\n",
       "      <td>603.558</td>\n",
       "      <td>7.758</td>\n",
       "      <td>611.316</td>\n",
       "    </tr>\n",
       "    <tr>\n",
       "      <th>2</th>\n",
       "      <td>2015-01-03</td>\n",
       "      <td>1265.27100</td>\n",
       "      <td>462.953</td>\n",
       "      <td>7.236</td>\n",
       "      <td>470.189</td>\n",
       "    </tr>\n",
       "    <tr>\n",
       "      <th>3</th>\n",
       "      <td>2015-01-04</td>\n",
       "      <td>1198.85400</td>\n",
       "      <td>385.024</td>\n",
       "      <td>19.984</td>\n",
       "      <td>405.008</td>\n",
       "    </tr>\n",
       "    <tr>\n",
       "      <th>4</th>\n",
       "      <td>2015-01-05</td>\n",
       "      <td>1449.86100</td>\n",
       "      <td>216.543</td>\n",
       "      <td>26.524</td>\n",
       "      <td>243.067</td>\n",
       "    </tr>\n",
       "    <tr>\n",
       "      <th>...</th>\n",
       "      <td>...</td>\n",
       "      <td>...</td>\n",
       "      <td>...</td>\n",
       "      <td>...</td>\n",
       "      <td>...</td>\n",
       "    </tr>\n",
       "    <tr>\n",
       "      <th>1091</th>\n",
       "      <td>2017-12-27</td>\n",
       "      <td>1263.94091</td>\n",
       "      <td>394.507</td>\n",
       "      <td>16.530</td>\n",
       "      <td>411.037</td>\n",
       "    </tr>\n",
       "    <tr>\n",
       "      <th>1092</th>\n",
       "      <td>2017-12-28</td>\n",
       "      <td>1299.86398</td>\n",
       "      <td>506.424</td>\n",
       "      <td>14.162</td>\n",
       "      <td>520.586</td>\n",
       "    </tr>\n",
       "    <tr>\n",
       "      <th>1093</th>\n",
       "      <td>2017-12-29</td>\n",
       "      <td>1295.08753</td>\n",
       "      <td>584.277</td>\n",
       "      <td>29.854</td>\n",
       "      <td>614.131</td>\n",
       "    </tr>\n",
       "    <tr>\n",
       "      <th>1094</th>\n",
       "      <td>2017-12-30</td>\n",
       "      <td>1215.44897</td>\n",
       "      <td>721.247</td>\n",
       "      <td>7.467</td>\n",
       "      <td>728.714</td>\n",
       "    </tr>\n",
       "    <tr>\n",
       "      <th>1095</th>\n",
       "      <td>2017-12-31</td>\n",
       "      <td>1107.11488</td>\n",
       "      <td>721.176</td>\n",
       "      <td>19.980</td>\n",
       "      <td>741.156</td>\n",
       "    </tr>\n",
       "  </tbody>\n",
       "</table>\n",
       "<p>1096 rows × 5 columns</p>\n",
       "</div>"
      ],
      "text/plain": [
       "            Date  Consumption     Wind   Solar  Wind+Solar\n",
       "0     2015-01-01   1111.33600  325.128  17.079     342.207\n",
       "1     2015-01-02   1300.88400  603.558   7.758     611.316\n",
       "2     2015-01-03   1265.27100  462.953   7.236     470.189\n",
       "3     2015-01-04   1198.85400  385.024  19.984     405.008\n",
       "4     2015-01-05   1449.86100  216.543  26.524     243.067\n",
       "...          ...          ...      ...     ...         ...\n",
       "1091  2017-12-27   1263.94091  394.507  16.530     411.037\n",
       "1092  2017-12-28   1299.86398  506.424  14.162     520.586\n",
       "1093  2017-12-29   1295.08753  584.277  29.854     614.131\n",
       "1094  2017-12-30   1215.44897  721.247   7.467     728.714\n",
       "1095  2017-12-31   1107.11488  721.176  19.980     741.156\n",
       "\n",
       "[1096 rows x 5 columns]"
      ]
     },
     "execution_count": 79,
     "metadata": {},
     "output_type": "execute_result"
    }
   ],
   "source": [
    "import pandas as pd\n",
    "\n",
    "dataframe = pd.read_csv('timeseries.csv')\n",
    "dataframe.set_index('Date')\n",
    "dataframe"
   ]
  },
  {
   "cell_type": "code",
   "execution_count": 80,
   "id": "faee8b84-3342-4d34-82a3-ceb30f26283a",
   "metadata": {},
   "outputs": [
    {
     "data": {
      "text/html": [
       "<div>\n",
       "<style scoped>\n",
       "    .dataframe tbody tr th:only-of-type {\n",
       "        vertical-align: middle;\n",
       "    }\n",
       "\n",
       "    .dataframe tbody tr th {\n",
       "        vertical-align: top;\n",
       "    }\n",
       "\n",
       "    .dataframe thead th {\n",
       "        text-align: right;\n",
       "    }\n",
       "</style>\n",
       "<table border=\"1\" class=\"dataframe\">\n",
       "  <thead>\n",
       "    <tr style=\"text-align: right;\">\n",
       "      <th></th>\n",
       "      <th>Consumption</th>\n",
       "      <th>Wind</th>\n",
       "      <th>Solar</th>\n",
       "      <th>Wind+Solar</th>\n",
       "    </tr>\n",
       "    <tr>\n",
       "      <th>Date</th>\n",
       "      <th></th>\n",
       "      <th></th>\n",
       "      <th></th>\n",
       "      <th></th>\n",
       "    </tr>\n",
       "  </thead>\n",
       "  <tbody>\n",
       "    <tr>\n",
       "      <th>2015-01-01</th>\n",
       "      <td>1111.33600</td>\n",
       "      <td>325.128</td>\n",
       "      <td>17.079</td>\n",
       "      <td>342.207</td>\n",
       "    </tr>\n",
       "    <tr>\n",
       "      <th>2015-01-02</th>\n",
       "      <td>1300.88400</td>\n",
       "      <td>603.558</td>\n",
       "      <td>7.758</td>\n",
       "      <td>611.316</td>\n",
       "    </tr>\n",
       "    <tr>\n",
       "      <th>2015-01-03</th>\n",
       "      <td>1265.27100</td>\n",
       "      <td>462.953</td>\n",
       "      <td>7.236</td>\n",
       "      <td>470.189</td>\n",
       "    </tr>\n",
       "    <tr>\n",
       "      <th>2015-01-04</th>\n",
       "      <td>1198.85400</td>\n",
       "      <td>385.024</td>\n",
       "      <td>19.984</td>\n",
       "      <td>405.008</td>\n",
       "    </tr>\n",
       "    <tr>\n",
       "      <th>2015-01-05</th>\n",
       "      <td>1449.86100</td>\n",
       "      <td>216.543</td>\n",
       "      <td>26.524</td>\n",
       "      <td>243.067</td>\n",
       "    </tr>\n",
       "    <tr>\n",
       "      <th>...</th>\n",
       "      <td>...</td>\n",
       "      <td>...</td>\n",
       "      <td>...</td>\n",
       "      <td>...</td>\n",
       "    </tr>\n",
       "    <tr>\n",
       "      <th>2017-12-27</th>\n",
       "      <td>1263.94091</td>\n",
       "      <td>394.507</td>\n",
       "      <td>16.530</td>\n",
       "      <td>411.037</td>\n",
       "    </tr>\n",
       "    <tr>\n",
       "      <th>2017-12-28</th>\n",
       "      <td>1299.86398</td>\n",
       "      <td>506.424</td>\n",
       "      <td>14.162</td>\n",
       "      <td>520.586</td>\n",
       "    </tr>\n",
       "    <tr>\n",
       "      <th>2017-12-29</th>\n",
       "      <td>1295.08753</td>\n",
       "      <td>584.277</td>\n",
       "      <td>29.854</td>\n",
       "      <td>614.131</td>\n",
       "    </tr>\n",
       "    <tr>\n",
       "      <th>2017-12-30</th>\n",
       "      <td>1215.44897</td>\n",
       "      <td>721.247</td>\n",
       "      <td>7.467</td>\n",
       "      <td>728.714</td>\n",
       "    </tr>\n",
       "    <tr>\n",
       "      <th>2017-12-31</th>\n",
       "      <td>1107.11488</td>\n",
       "      <td>721.176</td>\n",
       "      <td>19.980</td>\n",
       "      <td>741.156</td>\n",
       "    </tr>\n",
       "  </tbody>\n",
       "</table>\n",
       "<p>1096 rows × 4 columns</p>\n",
       "</div>"
      ],
      "text/plain": [
       "            Consumption     Wind   Solar  Wind+Solar\n",
       "Date                                                \n",
       "2015-01-01   1111.33600  325.128  17.079     342.207\n",
       "2015-01-02   1300.88400  603.558   7.758     611.316\n",
       "2015-01-03   1265.27100  462.953   7.236     470.189\n",
       "2015-01-04   1198.85400  385.024  19.984     405.008\n",
       "2015-01-05   1449.86100  216.543  26.524     243.067\n",
       "...                 ...      ...     ...         ...\n",
       "2017-12-27   1263.94091  394.507  16.530     411.037\n",
       "2017-12-28   1299.86398  506.424  14.162     520.586\n",
       "2017-12-29   1295.08753  584.277  29.854     614.131\n",
       "2017-12-30   1215.44897  721.247   7.467     728.714\n",
       "2017-12-31   1107.11488  721.176  19.980     741.156\n",
       "\n",
       "[1096 rows x 4 columns]"
      ]
     },
     "execution_count": 80,
     "metadata": {},
     "output_type": "execute_result"
    }
   ],
   "source": [
    "dataframe2 = dataframe.set_index('Date')\n",
    "dataframe2"
   ]
  },
  {
   "cell_type": "code",
   "execution_count": 85,
   "id": "02595e5f-03f3-441c-9d95-bf9aa90d1d06",
   "metadata": {},
   "outputs": [
    {
     "ename": "HTTPError",
     "evalue": "HTTP Error 403: Forbidden",
     "output_type": "error",
     "traceback": [
      "\u001b[0;31m---------------------------------------------------------------------------\u001b[0m",
      "\u001b[0;31mHTTPError\u001b[0m                                 Traceback (most recent call last)",
      "Cell \u001b[0;32mIn[85], line 3\u001b[0m\n\u001b[1;32m      1\u001b[0m \u001b[38;5;28;01mimport\u001b[39;00m\u001b[38;5;250m \u001b[39m\u001b[38;5;21;01mpandas\u001b[39;00m\u001b[38;5;250m \u001b[39m\u001b[38;5;28;01mas\u001b[39;00m\u001b[38;5;250m \u001b[39m\u001b[38;5;21;01mpd\u001b[39;00m\n\u001b[1;32m      2\u001b[0m url \u001b[38;5;241m=\u001b[39m \u001b[38;5;124m'\u001b[39m\u001b[38;5;124mhttps://data.ca.gov/dataset/cea8cd18-9d21-4676-85de-d504ee2d4aab/resource/26201f19-4469-4311-a819-bbbd3e557eda/download/ca-educational-attainment-personal-income-2008-2014.csv\u001b[39m\u001b[38;5;124m'\u001b[39m\n\u001b[0;32m----> 3\u001b[0m table \u001b[38;5;241m=\u001b[39m pd\u001b[38;5;241m.\u001b[39mread_csv(url)\n\u001b[1;32m      4\u001b[0m table\n",
      "File \u001b[0;32m/opt/anaconda3/lib/python3.13/site-packages/pandas/io/parsers/readers.py:1026\u001b[0m, in \u001b[0;36mread_csv\u001b[0;34m(filepath_or_buffer, sep, delimiter, header, names, index_col, usecols, dtype, engine, converters, true_values, false_values, skipinitialspace, skiprows, skipfooter, nrows, na_values, keep_default_na, na_filter, verbose, skip_blank_lines, parse_dates, infer_datetime_format, keep_date_col, date_parser, date_format, dayfirst, cache_dates, iterator, chunksize, compression, thousands, decimal, lineterminator, quotechar, quoting, doublequote, escapechar, comment, encoding, encoding_errors, dialect, on_bad_lines, delim_whitespace, low_memory, memory_map, float_precision, storage_options, dtype_backend)\u001b[0m\n\u001b[1;32m   1013\u001b[0m kwds_defaults \u001b[38;5;241m=\u001b[39m _refine_defaults_read(\n\u001b[1;32m   1014\u001b[0m     dialect,\n\u001b[1;32m   1015\u001b[0m     delimiter,\n\u001b[0;32m   (...)\u001b[0m\n\u001b[1;32m   1022\u001b[0m     dtype_backend\u001b[38;5;241m=\u001b[39mdtype_backend,\n\u001b[1;32m   1023\u001b[0m )\n\u001b[1;32m   1024\u001b[0m kwds\u001b[38;5;241m.\u001b[39mupdate(kwds_defaults)\n\u001b[0;32m-> 1026\u001b[0m \u001b[38;5;28;01mreturn\u001b[39;00m _read(filepath_or_buffer, kwds)\n",
      "File \u001b[0;32m/opt/anaconda3/lib/python3.13/site-packages/pandas/io/parsers/readers.py:620\u001b[0m, in \u001b[0;36m_read\u001b[0;34m(filepath_or_buffer, kwds)\u001b[0m\n\u001b[1;32m    617\u001b[0m _validate_names(kwds\u001b[38;5;241m.\u001b[39mget(\u001b[38;5;124m\"\u001b[39m\u001b[38;5;124mnames\u001b[39m\u001b[38;5;124m\"\u001b[39m, \u001b[38;5;28;01mNone\u001b[39;00m))\n\u001b[1;32m    619\u001b[0m \u001b[38;5;66;03m# Create the parser.\u001b[39;00m\n\u001b[0;32m--> 620\u001b[0m parser \u001b[38;5;241m=\u001b[39m TextFileReader(filepath_or_buffer, \u001b[38;5;241m*\u001b[39m\u001b[38;5;241m*\u001b[39mkwds)\n\u001b[1;32m    622\u001b[0m \u001b[38;5;28;01mif\u001b[39;00m chunksize \u001b[38;5;129;01mor\u001b[39;00m iterator:\n\u001b[1;32m    623\u001b[0m     \u001b[38;5;28;01mreturn\u001b[39;00m parser\n",
      "File \u001b[0;32m/opt/anaconda3/lib/python3.13/site-packages/pandas/io/parsers/readers.py:1620\u001b[0m, in \u001b[0;36mTextFileReader.__init__\u001b[0;34m(self, f, engine, **kwds)\u001b[0m\n\u001b[1;32m   1617\u001b[0m     \u001b[38;5;28mself\u001b[39m\u001b[38;5;241m.\u001b[39moptions[\u001b[38;5;124m\"\u001b[39m\u001b[38;5;124mhas_index_names\u001b[39m\u001b[38;5;124m\"\u001b[39m] \u001b[38;5;241m=\u001b[39m kwds[\u001b[38;5;124m\"\u001b[39m\u001b[38;5;124mhas_index_names\u001b[39m\u001b[38;5;124m\"\u001b[39m]\n\u001b[1;32m   1619\u001b[0m \u001b[38;5;28mself\u001b[39m\u001b[38;5;241m.\u001b[39mhandles: IOHandles \u001b[38;5;241m|\u001b[39m \u001b[38;5;28;01mNone\u001b[39;00m \u001b[38;5;241m=\u001b[39m \u001b[38;5;28;01mNone\u001b[39;00m\n\u001b[0;32m-> 1620\u001b[0m \u001b[38;5;28mself\u001b[39m\u001b[38;5;241m.\u001b[39m_engine \u001b[38;5;241m=\u001b[39m \u001b[38;5;28mself\u001b[39m\u001b[38;5;241m.\u001b[39m_make_engine(f, \u001b[38;5;28mself\u001b[39m\u001b[38;5;241m.\u001b[39mengine)\n",
      "File \u001b[0;32m/opt/anaconda3/lib/python3.13/site-packages/pandas/io/parsers/readers.py:1880\u001b[0m, in \u001b[0;36mTextFileReader._make_engine\u001b[0;34m(self, f, engine)\u001b[0m\n\u001b[1;32m   1878\u001b[0m     \u001b[38;5;28;01mif\u001b[39;00m \u001b[38;5;124m\"\u001b[39m\u001b[38;5;124mb\u001b[39m\u001b[38;5;124m\"\u001b[39m \u001b[38;5;129;01mnot\u001b[39;00m \u001b[38;5;129;01min\u001b[39;00m mode:\n\u001b[1;32m   1879\u001b[0m         mode \u001b[38;5;241m+\u001b[39m\u001b[38;5;241m=\u001b[39m \u001b[38;5;124m\"\u001b[39m\u001b[38;5;124mb\u001b[39m\u001b[38;5;124m\"\u001b[39m\n\u001b[0;32m-> 1880\u001b[0m \u001b[38;5;28mself\u001b[39m\u001b[38;5;241m.\u001b[39mhandles \u001b[38;5;241m=\u001b[39m get_handle(\n\u001b[1;32m   1881\u001b[0m     f,\n\u001b[1;32m   1882\u001b[0m     mode,\n\u001b[1;32m   1883\u001b[0m     encoding\u001b[38;5;241m=\u001b[39m\u001b[38;5;28mself\u001b[39m\u001b[38;5;241m.\u001b[39moptions\u001b[38;5;241m.\u001b[39mget(\u001b[38;5;124m\"\u001b[39m\u001b[38;5;124mencoding\u001b[39m\u001b[38;5;124m\"\u001b[39m, \u001b[38;5;28;01mNone\u001b[39;00m),\n\u001b[1;32m   1884\u001b[0m     compression\u001b[38;5;241m=\u001b[39m\u001b[38;5;28mself\u001b[39m\u001b[38;5;241m.\u001b[39moptions\u001b[38;5;241m.\u001b[39mget(\u001b[38;5;124m\"\u001b[39m\u001b[38;5;124mcompression\u001b[39m\u001b[38;5;124m\"\u001b[39m, \u001b[38;5;28;01mNone\u001b[39;00m),\n\u001b[1;32m   1885\u001b[0m     memory_map\u001b[38;5;241m=\u001b[39m\u001b[38;5;28mself\u001b[39m\u001b[38;5;241m.\u001b[39moptions\u001b[38;5;241m.\u001b[39mget(\u001b[38;5;124m\"\u001b[39m\u001b[38;5;124mmemory_map\u001b[39m\u001b[38;5;124m\"\u001b[39m, \u001b[38;5;28;01mFalse\u001b[39;00m),\n\u001b[1;32m   1886\u001b[0m     is_text\u001b[38;5;241m=\u001b[39mis_text,\n\u001b[1;32m   1887\u001b[0m     errors\u001b[38;5;241m=\u001b[39m\u001b[38;5;28mself\u001b[39m\u001b[38;5;241m.\u001b[39moptions\u001b[38;5;241m.\u001b[39mget(\u001b[38;5;124m\"\u001b[39m\u001b[38;5;124mencoding_errors\u001b[39m\u001b[38;5;124m\"\u001b[39m, \u001b[38;5;124m\"\u001b[39m\u001b[38;5;124mstrict\u001b[39m\u001b[38;5;124m\"\u001b[39m),\n\u001b[1;32m   1888\u001b[0m     storage_options\u001b[38;5;241m=\u001b[39m\u001b[38;5;28mself\u001b[39m\u001b[38;5;241m.\u001b[39moptions\u001b[38;5;241m.\u001b[39mget(\u001b[38;5;124m\"\u001b[39m\u001b[38;5;124mstorage_options\u001b[39m\u001b[38;5;124m\"\u001b[39m, \u001b[38;5;28;01mNone\u001b[39;00m),\n\u001b[1;32m   1889\u001b[0m )\n\u001b[1;32m   1890\u001b[0m \u001b[38;5;28;01massert\u001b[39;00m \u001b[38;5;28mself\u001b[39m\u001b[38;5;241m.\u001b[39mhandles \u001b[38;5;129;01mis\u001b[39;00m \u001b[38;5;129;01mnot\u001b[39;00m \u001b[38;5;28;01mNone\u001b[39;00m\n\u001b[1;32m   1891\u001b[0m f \u001b[38;5;241m=\u001b[39m \u001b[38;5;28mself\u001b[39m\u001b[38;5;241m.\u001b[39mhandles\u001b[38;5;241m.\u001b[39mhandle\n",
      "File \u001b[0;32m/opt/anaconda3/lib/python3.13/site-packages/pandas/io/common.py:728\u001b[0m, in \u001b[0;36mget_handle\u001b[0;34m(path_or_buf, mode, encoding, compression, memory_map, is_text, errors, storage_options)\u001b[0m\n\u001b[1;32m    725\u001b[0m     codecs\u001b[38;5;241m.\u001b[39mlookup_error(errors)\n\u001b[1;32m    727\u001b[0m \u001b[38;5;66;03m# open URLs\u001b[39;00m\n\u001b[0;32m--> 728\u001b[0m ioargs \u001b[38;5;241m=\u001b[39m _get_filepath_or_buffer(\n\u001b[1;32m    729\u001b[0m     path_or_buf,\n\u001b[1;32m    730\u001b[0m     encoding\u001b[38;5;241m=\u001b[39mencoding,\n\u001b[1;32m    731\u001b[0m     compression\u001b[38;5;241m=\u001b[39mcompression,\n\u001b[1;32m    732\u001b[0m     mode\u001b[38;5;241m=\u001b[39mmode,\n\u001b[1;32m    733\u001b[0m     storage_options\u001b[38;5;241m=\u001b[39mstorage_options,\n\u001b[1;32m    734\u001b[0m )\n\u001b[1;32m    736\u001b[0m handle \u001b[38;5;241m=\u001b[39m ioargs\u001b[38;5;241m.\u001b[39mfilepath_or_buffer\n\u001b[1;32m    737\u001b[0m handles: \u001b[38;5;28mlist\u001b[39m[BaseBuffer]\n",
      "File \u001b[0;32m/opt/anaconda3/lib/python3.13/site-packages/pandas/io/common.py:384\u001b[0m, in \u001b[0;36m_get_filepath_or_buffer\u001b[0;34m(filepath_or_buffer, encoding, compression, mode, storage_options)\u001b[0m\n\u001b[1;32m    382\u001b[0m \u001b[38;5;66;03m# assuming storage_options is to be interpreted as headers\u001b[39;00m\n\u001b[1;32m    383\u001b[0m req_info \u001b[38;5;241m=\u001b[39m urllib\u001b[38;5;241m.\u001b[39mrequest\u001b[38;5;241m.\u001b[39mRequest(filepath_or_buffer, headers\u001b[38;5;241m=\u001b[39mstorage_options)\n\u001b[0;32m--> 384\u001b[0m \u001b[38;5;28;01mwith\u001b[39;00m urlopen(req_info) \u001b[38;5;28;01mas\u001b[39;00m req:\n\u001b[1;32m    385\u001b[0m     content_encoding \u001b[38;5;241m=\u001b[39m req\u001b[38;5;241m.\u001b[39mheaders\u001b[38;5;241m.\u001b[39mget(\u001b[38;5;124m\"\u001b[39m\u001b[38;5;124mContent-Encoding\u001b[39m\u001b[38;5;124m\"\u001b[39m, \u001b[38;5;28;01mNone\u001b[39;00m)\n\u001b[1;32m    386\u001b[0m     \u001b[38;5;28;01mif\u001b[39;00m content_encoding \u001b[38;5;241m==\u001b[39m \u001b[38;5;124m\"\u001b[39m\u001b[38;5;124mgzip\u001b[39m\u001b[38;5;124m\"\u001b[39m:\n\u001b[1;32m    387\u001b[0m         \u001b[38;5;66;03m# Override compression based on Content-Encoding header\u001b[39;00m\n",
      "File \u001b[0;32m/opt/anaconda3/lib/python3.13/site-packages/pandas/io/common.py:289\u001b[0m, in \u001b[0;36murlopen\u001b[0;34m(*args, **kwargs)\u001b[0m\n\u001b[1;32m    283\u001b[0m \u001b[38;5;250m\u001b[39m\u001b[38;5;124;03m\"\"\"\u001b[39;00m\n\u001b[1;32m    284\u001b[0m \u001b[38;5;124;03mLazy-import wrapper for stdlib urlopen, as that imports a big chunk of\u001b[39;00m\n\u001b[1;32m    285\u001b[0m \u001b[38;5;124;03mthe stdlib.\u001b[39;00m\n\u001b[1;32m    286\u001b[0m \u001b[38;5;124;03m\"\"\"\u001b[39;00m\n\u001b[1;32m    287\u001b[0m \u001b[38;5;28;01mimport\u001b[39;00m\u001b[38;5;250m \u001b[39m\u001b[38;5;21;01murllib\u001b[39;00m\u001b[38;5;21;01m.\u001b[39;00m\u001b[38;5;21;01mrequest\u001b[39;00m\n\u001b[0;32m--> 289\u001b[0m \u001b[38;5;28;01mreturn\u001b[39;00m urllib\u001b[38;5;241m.\u001b[39mrequest\u001b[38;5;241m.\u001b[39murlopen(\u001b[38;5;241m*\u001b[39margs, \u001b[38;5;241m*\u001b[39m\u001b[38;5;241m*\u001b[39mkwargs)\n",
      "File \u001b[0;32m/opt/anaconda3/lib/python3.13/urllib/request.py:189\u001b[0m, in \u001b[0;36murlopen\u001b[0;34m(url, data, timeout, context)\u001b[0m\n\u001b[1;32m    187\u001b[0m \u001b[38;5;28;01melse\u001b[39;00m:\n\u001b[1;32m    188\u001b[0m     opener \u001b[38;5;241m=\u001b[39m _opener\n\u001b[0;32m--> 189\u001b[0m \u001b[38;5;28;01mreturn\u001b[39;00m opener\u001b[38;5;241m.\u001b[39mopen(url, data, timeout)\n",
      "File \u001b[0;32m/opt/anaconda3/lib/python3.13/urllib/request.py:495\u001b[0m, in \u001b[0;36mOpenerDirector.open\u001b[0;34m(self, fullurl, data, timeout)\u001b[0m\n\u001b[1;32m    493\u001b[0m \u001b[38;5;28;01mfor\u001b[39;00m processor \u001b[38;5;129;01min\u001b[39;00m \u001b[38;5;28mself\u001b[39m\u001b[38;5;241m.\u001b[39mprocess_response\u001b[38;5;241m.\u001b[39mget(protocol, []):\n\u001b[1;32m    494\u001b[0m     meth \u001b[38;5;241m=\u001b[39m \u001b[38;5;28mgetattr\u001b[39m(processor, meth_name)\n\u001b[0;32m--> 495\u001b[0m     response \u001b[38;5;241m=\u001b[39m meth(req, response)\n\u001b[1;32m    497\u001b[0m \u001b[38;5;28;01mreturn\u001b[39;00m response\n",
      "File \u001b[0;32m/opt/anaconda3/lib/python3.13/urllib/request.py:604\u001b[0m, in \u001b[0;36mHTTPErrorProcessor.http_response\u001b[0;34m(self, request, response)\u001b[0m\n\u001b[1;32m    601\u001b[0m \u001b[38;5;66;03m# According to RFC 2616, \"2xx\" code indicates that the client's\u001b[39;00m\n\u001b[1;32m    602\u001b[0m \u001b[38;5;66;03m# request was successfully received, understood, and accepted.\u001b[39;00m\n\u001b[1;32m    603\u001b[0m \u001b[38;5;28;01mif\u001b[39;00m \u001b[38;5;129;01mnot\u001b[39;00m (\u001b[38;5;241m200\u001b[39m \u001b[38;5;241m<\u001b[39m\u001b[38;5;241m=\u001b[39m code \u001b[38;5;241m<\u001b[39m \u001b[38;5;241m300\u001b[39m):\n\u001b[0;32m--> 604\u001b[0m     response \u001b[38;5;241m=\u001b[39m \u001b[38;5;28mself\u001b[39m\u001b[38;5;241m.\u001b[39mparent\u001b[38;5;241m.\u001b[39merror(\n\u001b[1;32m    605\u001b[0m         \u001b[38;5;124m'\u001b[39m\u001b[38;5;124mhttp\u001b[39m\u001b[38;5;124m'\u001b[39m, request, response, code, msg, hdrs)\n\u001b[1;32m    607\u001b[0m \u001b[38;5;28;01mreturn\u001b[39;00m response\n",
      "File \u001b[0;32m/opt/anaconda3/lib/python3.13/urllib/request.py:527\u001b[0m, in \u001b[0;36mOpenerDirector.error\u001b[0;34m(self, proto, *args)\u001b[0m\n\u001b[1;32m    525\u001b[0m     http_err \u001b[38;5;241m=\u001b[39m \u001b[38;5;241m0\u001b[39m\n\u001b[1;32m    526\u001b[0m args \u001b[38;5;241m=\u001b[39m (\u001b[38;5;28mdict\u001b[39m, proto, meth_name) \u001b[38;5;241m+\u001b[39m args\n\u001b[0;32m--> 527\u001b[0m result \u001b[38;5;241m=\u001b[39m \u001b[38;5;28mself\u001b[39m\u001b[38;5;241m.\u001b[39m_call_chain(\u001b[38;5;241m*\u001b[39margs)\n\u001b[1;32m    528\u001b[0m \u001b[38;5;28;01mif\u001b[39;00m result:\n\u001b[1;32m    529\u001b[0m     \u001b[38;5;28;01mreturn\u001b[39;00m result\n",
      "File \u001b[0;32m/opt/anaconda3/lib/python3.13/urllib/request.py:466\u001b[0m, in \u001b[0;36mOpenerDirector._call_chain\u001b[0;34m(self, chain, kind, meth_name, *args)\u001b[0m\n\u001b[1;32m    464\u001b[0m \u001b[38;5;28;01mfor\u001b[39;00m handler \u001b[38;5;129;01min\u001b[39;00m handlers:\n\u001b[1;32m    465\u001b[0m     func \u001b[38;5;241m=\u001b[39m \u001b[38;5;28mgetattr\u001b[39m(handler, meth_name)\n\u001b[0;32m--> 466\u001b[0m     result \u001b[38;5;241m=\u001b[39m func(\u001b[38;5;241m*\u001b[39margs)\n\u001b[1;32m    467\u001b[0m     \u001b[38;5;28;01mif\u001b[39;00m result \u001b[38;5;129;01mis\u001b[39;00m \u001b[38;5;129;01mnot\u001b[39;00m \u001b[38;5;28;01mNone\u001b[39;00m:\n\u001b[1;32m    468\u001b[0m         \u001b[38;5;28;01mreturn\u001b[39;00m result\n",
      "File \u001b[0;32m/opt/anaconda3/lib/python3.13/urllib/request.py:720\u001b[0m, in \u001b[0;36mHTTPRedirectHandler.http_error_302\u001b[0;34m(self, req, fp, code, msg, headers)\u001b[0m\n\u001b[1;32m    717\u001b[0m fp\u001b[38;5;241m.\u001b[39mread()\n\u001b[1;32m    718\u001b[0m fp\u001b[38;5;241m.\u001b[39mclose()\n\u001b[0;32m--> 720\u001b[0m \u001b[38;5;28;01mreturn\u001b[39;00m \u001b[38;5;28mself\u001b[39m\u001b[38;5;241m.\u001b[39mparent\u001b[38;5;241m.\u001b[39mopen(new, timeout\u001b[38;5;241m=\u001b[39mreq\u001b[38;5;241m.\u001b[39mtimeout)\n",
      "File \u001b[0;32m/opt/anaconda3/lib/python3.13/urllib/request.py:495\u001b[0m, in \u001b[0;36mOpenerDirector.open\u001b[0;34m(self, fullurl, data, timeout)\u001b[0m\n\u001b[1;32m    493\u001b[0m \u001b[38;5;28;01mfor\u001b[39;00m processor \u001b[38;5;129;01min\u001b[39;00m \u001b[38;5;28mself\u001b[39m\u001b[38;5;241m.\u001b[39mprocess_response\u001b[38;5;241m.\u001b[39mget(protocol, []):\n\u001b[1;32m    494\u001b[0m     meth \u001b[38;5;241m=\u001b[39m \u001b[38;5;28mgetattr\u001b[39m(processor, meth_name)\n\u001b[0;32m--> 495\u001b[0m     response \u001b[38;5;241m=\u001b[39m meth(req, response)\n\u001b[1;32m    497\u001b[0m \u001b[38;5;28;01mreturn\u001b[39;00m response\n",
      "File \u001b[0;32m/opt/anaconda3/lib/python3.13/urllib/request.py:604\u001b[0m, in \u001b[0;36mHTTPErrorProcessor.http_response\u001b[0;34m(self, request, response)\u001b[0m\n\u001b[1;32m    601\u001b[0m \u001b[38;5;66;03m# According to RFC 2616, \"2xx\" code indicates that the client's\u001b[39;00m\n\u001b[1;32m    602\u001b[0m \u001b[38;5;66;03m# request was successfully received, understood, and accepted.\u001b[39;00m\n\u001b[1;32m    603\u001b[0m \u001b[38;5;28;01mif\u001b[39;00m \u001b[38;5;129;01mnot\u001b[39;00m (\u001b[38;5;241m200\u001b[39m \u001b[38;5;241m<\u001b[39m\u001b[38;5;241m=\u001b[39m code \u001b[38;5;241m<\u001b[39m \u001b[38;5;241m300\u001b[39m):\n\u001b[0;32m--> 604\u001b[0m     response \u001b[38;5;241m=\u001b[39m \u001b[38;5;28mself\u001b[39m\u001b[38;5;241m.\u001b[39mparent\u001b[38;5;241m.\u001b[39merror(\n\u001b[1;32m    605\u001b[0m         \u001b[38;5;124m'\u001b[39m\u001b[38;5;124mhttp\u001b[39m\u001b[38;5;124m'\u001b[39m, request, response, code, msg, hdrs)\n\u001b[1;32m    607\u001b[0m \u001b[38;5;28;01mreturn\u001b[39;00m response\n",
      "File \u001b[0;32m/opt/anaconda3/lib/python3.13/urllib/request.py:533\u001b[0m, in \u001b[0;36mOpenerDirector.error\u001b[0;34m(self, proto, *args)\u001b[0m\n\u001b[1;32m    531\u001b[0m \u001b[38;5;28;01mif\u001b[39;00m http_err:\n\u001b[1;32m    532\u001b[0m     args \u001b[38;5;241m=\u001b[39m (\u001b[38;5;28mdict\u001b[39m, \u001b[38;5;124m'\u001b[39m\u001b[38;5;124mdefault\u001b[39m\u001b[38;5;124m'\u001b[39m, \u001b[38;5;124m'\u001b[39m\u001b[38;5;124mhttp_error_default\u001b[39m\u001b[38;5;124m'\u001b[39m) \u001b[38;5;241m+\u001b[39m orig_args\n\u001b[0;32m--> 533\u001b[0m     \u001b[38;5;28;01mreturn\u001b[39;00m \u001b[38;5;28mself\u001b[39m\u001b[38;5;241m.\u001b[39m_call_chain(\u001b[38;5;241m*\u001b[39margs)\n",
      "File \u001b[0;32m/opt/anaconda3/lib/python3.13/urllib/request.py:466\u001b[0m, in \u001b[0;36mOpenerDirector._call_chain\u001b[0;34m(self, chain, kind, meth_name, *args)\u001b[0m\n\u001b[1;32m    464\u001b[0m \u001b[38;5;28;01mfor\u001b[39;00m handler \u001b[38;5;129;01min\u001b[39;00m handlers:\n\u001b[1;32m    465\u001b[0m     func \u001b[38;5;241m=\u001b[39m \u001b[38;5;28mgetattr\u001b[39m(handler, meth_name)\n\u001b[0;32m--> 466\u001b[0m     result \u001b[38;5;241m=\u001b[39m func(\u001b[38;5;241m*\u001b[39margs)\n\u001b[1;32m    467\u001b[0m     \u001b[38;5;28;01mif\u001b[39;00m result \u001b[38;5;129;01mis\u001b[39;00m \u001b[38;5;129;01mnot\u001b[39;00m \u001b[38;5;28;01mNone\u001b[39;00m:\n\u001b[1;32m    468\u001b[0m         \u001b[38;5;28;01mreturn\u001b[39;00m result\n",
      "File \u001b[0;32m/opt/anaconda3/lib/python3.13/urllib/request.py:613\u001b[0m, in \u001b[0;36mHTTPDefaultErrorHandler.http_error_default\u001b[0;34m(self, req, fp, code, msg, hdrs)\u001b[0m\n\u001b[1;32m    612\u001b[0m \u001b[38;5;28;01mdef\u001b[39;00m\u001b[38;5;250m \u001b[39m\u001b[38;5;21mhttp_error_default\u001b[39m(\u001b[38;5;28mself\u001b[39m, req, fp, code, msg, hdrs):\n\u001b[0;32m--> 613\u001b[0m     \u001b[38;5;28;01mraise\u001b[39;00m HTTPError(req\u001b[38;5;241m.\u001b[39mfull_url, code, msg, hdrs, fp)\n",
      "\u001b[0;31mHTTPError\u001b[0m: HTTP Error 403: Forbidden"
     ]
    }
   ],
   "source": [
    "import pandas as pd\n",
    "url = 'https://data.ca.gov/dataset/cea8cd18-9d21-4676-85de-d504ee2d4aab/resource/26201f19-4469-4311-a819-bbbd3e557eda/download/ca-educational-attainment-personal-income-2008-2014.csv'\n",
    "table = pd.read_csv(url)\n",
    "table"
   ]
  },
  {
   "cell_type": "code",
   "execution_count": 91,
   "id": "52f626b0-1d82-49db-97f3-1b66aa4ab8b0",
   "metadata": {},
   "outputs": [
    {
     "data": {
      "text/html": [
       "<div>\n",
       "<style scoped>\n",
       "    .dataframe tbody tr th:only-of-type {\n",
       "        vertical-align: middle;\n",
       "    }\n",
       "\n",
       "    .dataframe tbody tr th {\n",
       "        vertical-align: top;\n",
       "    }\n",
       "\n",
       "    .dataframe thead th {\n",
       "        text-align: right;\n",
       "    }\n",
       "</style>\n",
       "<table border=\"1\" class=\"dataframe\">\n",
       "  <thead>\n",
       "    <tr style=\"text-align: right;\">\n",
       "      <th></th>\n",
       "      <th>transaction_id</th>\n",
       "      <th>amount</th>\n",
       "      <th>customer_id</th>\n",
       "      <th>is_fraud</th>\n",
       "    </tr>\n",
       "  </thead>\n",
       "  <tbody>\n",
       "    <tr>\n",
       "      <th>count</th>\n",
       "      <td>100.000000</td>\n",
       "      <td>100.000000</td>\n",
       "      <td>100.000000</td>\n",
       "      <td>100.000000</td>\n",
       "    </tr>\n",
       "    <tr>\n",
       "      <th>mean</th>\n",
       "      <td>50.500000</td>\n",
       "      <td>2643.000000</td>\n",
       "      <td>1005.250000</td>\n",
       "      <td>0.310000</td>\n",
       "    </tr>\n",
       "    <tr>\n",
       "      <th>std</th>\n",
       "      <td>29.011492</td>\n",
       "      <td>1383.032461</td>\n",
       "      <td>2.875796</td>\n",
       "      <td>0.464823</td>\n",
       "    </tr>\n",
       "    <tr>\n",
       "      <th>min</th>\n",
       "      <td>1.000000</td>\n",
       "      <td>500.000000</td>\n",
       "      <td>1001.000000</td>\n",
       "      <td>0.000000</td>\n",
       "    </tr>\n",
       "    <tr>\n",
       "      <th>25%</th>\n",
       "      <td>25.750000</td>\n",
       "      <td>1500.000000</td>\n",
       "      <td>1003.000000</td>\n",
       "      <td>0.000000</td>\n",
       "    </tr>\n",
       "    <tr>\n",
       "      <th>50%</th>\n",
       "      <td>50.500000</td>\n",
       "      <td>2500.000000</td>\n",
       "      <td>1005.000000</td>\n",
       "      <td>0.000000</td>\n",
       "    </tr>\n",
       "    <tr>\n",
       "      <th>75%</th>\n",
       "      <td>75.250000</td>\n",
       "      <td>3500.000000</td>\n",
       "      <td>1008.000000</td>\n",
       "      <td>1.000000</td>\n",
       "    </tr>\n",
       "    <tr>\n",
       "      <th>max</th>\n",
       "      <td>100.000000</td>\n",
       "      <td>6000.000000</td>\n",
       "      <td>1010.000000</td>\n",
       "      <td>1.000000</td>\n",
       "    </tr>\n",
       "  </tbody>\n",
       "</table>\n",
       "</div>"
      ],
      "text/plain": [
       "       transaction_id       amount  customer_id    is_fraud\n",
       "count      100.000000   100.000000   100.000000  100.000000\n",
       "mean        50.500000  2643.000000  1005.250000    0.310000\n",
       "std         29.011492  1383.032461     2.875796    0.464823\n",
       "min          1.000000   500.000000  1001.000000    0.000000\n",
       "25%         25.750000  1500.000000  1003.000000    0.000000\n",
       "50%         50.500000  2500.000000  1005.000000    0.000000\n",
       "75%         75.250000  3500.000000  1008.000000    1.000000\n",
       "max        100.000000  6000.000000  1010.000000    1.000000"
      ]
     },
     "execution_count": 91,
     "metadata": {},
     "output_type": "execute_result"
    }
   ],
   "source": [
    "import pandas as pd\n",
    "\n",
    "fraud_txn_dataframe = pd.read_csv('financial_transactions.csv')\n",
    "fraud_txn_dataframe.describe()\n"
   ]
  },
  {
   "cell_type": "code",
   "execution_count": 90,
   "id": "e8186bbe-5dfc-42ae-91e4-a61cb3197379",
   "metadata": {},
   "outputs": [
    {
     "data": {
      "text/html": [
       "<div>\n",
       "<style scoped>\n",
       "    .dataframe tbody tr th:only-of-type {\n",
       "        vertical-align: middle;\n",
       "    }\n",
       "\n",
       "    .dataframe tbody tr th {\n",
       "        vertical-align: top;\n",
       "    }\n",
       "\n",
       "    .dataframe thead th {\n",
       "        text-align: right;\n",
       "    }\n",
       "</style>\n",
       "<table border=\"1\" class=\"dataframe\">\n",
       "  <thead>\n",
       "    <tr style=\"text-align: right;\">\n",
       "      <th></th>\n",
       "      <th>transaction_id</th>\n",
       "      <th>amount</th>\n",
       "      <th>transaction_type</th>\n",
       "      <th>customer_id</th>\n",
       "      <th>transaction_time</th>\n",
       "    </tr>\n",
       "  </thead>\n",
       "  <tbody>\n",
       "    <tr>\n",
       "      <th>0</th>\n",
       "      <td>101</td>\n",
       "      <td>1500</td>\n",
       "      <td>Purchase</td>\n",
       "      <td>1011</td>\n",
       "      <td>2023-01-21 10:00:00</td>\n",
       "    </tr>\n",
       "    <tr>\n",
       "      <th>1</th>\n",
       "      <td>102</td>\n",
       "      <td>2500</td>\n",
       "      <td>Transfer</td>\n",
       "      <td>1012</td>\n",
       "      <td>2023-01-21 11:00:00</td>\n",
       "    </tr>\n",
       "    <tr>\n",
       "      <th>2</th>\n",
       "      <td>103</td>\n",
       "      <td>3000</td>\n",
       "      <td>Withdrawal</td>\n",
       "      <td>1013</td>\n",
       "      <td>2023-01-21 12:00:00</td>\n",
       "    </tr>\n",
       "    <tr>\n",
       "      <th>3</th>\n",
       "      <td>104</td>\n",
       "      <td>4500</td>\n",
       "      <td>Purchase</td>\n",
       "      <td>1014</td>\n",
       "      <td>2023-01-21 13:00:00</td>\n",
       "    </tr>\n",
       "    <tr>\n",
       "      <th>4</th>\n",
       "      <td>105</td>\n",
       "      <td>2000</td>\n",
       "      <td>Transfer</td>\n",
       "      <td>1015</td>\n",
       "      <td>2023-01-21 14:00:00</td>\n",
       "    </tr>\n",
       "    <tr>\n",
       "      <th>5</th>\n",
       "      <td>106</td>\n",
       "      <td>700</td>\n",
       "      <td>Purchase</td>\n",
       "      <td>1016</td>\n",
       "      <td>2023-01-22 10:00:00</td>\n",
       "    </tr>\n",
       "    <tr>\n",
       "      <th>6</th>\n",
       "      <td>107</td>\n",
       "      <td>1500</td>\n",
       "      <td>Transfer</td>\n",
       "      <td>1017</td>\n",
       "      <td>2023-01-22 11:00:00</td>\n",
       "    </tr>\n",
       "    <tr>\n",
       "      <th>7</th>\n",
       "      <td>108</td>\n",
       "      <td>1000</td>\n",
       "      <td>Withdrawal</td>\n",
       "      <td>1018</td>\n",
       "      <td>2023-01-22 12:00:00</td>\n",
       "    </tr>\n",
       "    <tr>\n",
       "      <th>8</th>\n",
       "      <td>109</td>\n",
       "      <td>3500</td>\n",
       "      <td>Purchase</td>\n",
       "      <td>1019</td>\n",
       "      <td>2023-01-22 13:00:00</td>\n",
       "    </tr>\n",
       "    <tr>\n",
       "      <th>9</th>\n",
       "      <td>110</td>\n",
       "      <td>4500</td>\n",
       "      <td>Transfer</td>\n",
       "      <td>1020</td>\n",
       "      <td>2023-01-22 14:00:00</td>\n",
       "    </tr>\n",
       "    <tr>\n",
       "      <th>10</th>\n",
       "      <td>111</td>\n",
       "      <td>2500</td>\n",
       "      <td>Purchase</td>\n",
       "      <td>1021</td>\n",
       "      <td>2023-01-23 10:00:00</td>\n",
       "    </tr>\n",
       "    <tr>\n",
       "      <th>11</th>\n",
       "      <td>112</td>\n",
       "      <td>1500</td>\n",
       "      <td>Transfer</td>\n",
       "      <td>1022</td>\n",
       "      <td>2023-01-23 11:00:00</td>\n",
       "    </tr>\n",
       "    <tr>\n",
       "      <th>12</th>\n",
       "      <td>113</td>\n",
       "      <td>500</td>\n",
       "      <td>Withdrawal</td>\n",
       "      <td>1023</td>\n",
       "      <td>2023-01-23 12:00:00</td>\n",
       "    </tr>\n",
       "    <tr>\n",
       "      <th>13</th>\n",
       "      <td>114</td>\n",
       "      <td>4000</td>\n",
       "      <td>Purchase</td>\n",
       "      <td>1024</td>\n",
       "      <td>2023-01-23 13:00:00</td>\n",
       "    </tr>\n",
       "    <tr>\n",
       "      <th>14</th>\n",
       "      <td>115</td>\n",
       "      <td>6000</td>\n",
       "      <td>Transfer</td>\n",
       "      <td>1025</td>\n",
       "      <td>2023-01-23 14:00:00</td>\n",
       "    </tr>\n",
       "    <tr>\n",
       "      <th>15</th>\n",
       "      <td>116</td>\n",
       "      <td>3000</td>\n",
       "      <td>Purchase</td>\n",
       "      <td>1026</td>\n",
       "      <td>2023-01-24 10:00:00</td>\n",
       "    </tr>\n",
       "    <tr>\n",
       "      <th>16</th>\n",
       "      <td>117</td>\n",
       "      <td>4500</td>\n",
       "      <td>Transfer</td>\n",
       "      <td>1027</td>\n",
       "      <td>2023-01-24 11:00:00</td>\n",
       "    </tr>\n",
       "    <tr>\n",
       "      <th>17</th>\n",
       "      <td>118</td>\n",
       "      <td>2000</td>\n",
       "      <td>Withdrawal</td>\n",
       "      <td>1028</td>\n",
       "      <td>2023-01-24 12:00:00</td>\n",
       "    </tr>\n",
       "    <tr>\n",
       "      <th>18</th>\n",
       "      <td>119</td>\n",
       "      <td>1500</td>\n",
       "      <td>Purchase</td>\n",
       "      <td>1029</td>\n",
       "      <td>2023-01-24 13:00:00</td>\n",
       "    </tr>\n",
       "    <tr>\n",
       "      <th>19</th>\n",
       "      <td>120</td>\n",
       "      <td>5000</td>\n",
       "      <td>Transfer</td>\n",
       "      <td>1030</td>\n",
       "      <td>2023-01-24 14:00:00</td>\n",
       "    </tr>\n",
       "    <tr>\n",
       "      <th>20</th>\n",
       "      <td>121</td>\n",
       "      <td>700</td>\n",
       "      <td>Purchase</td>\n",
       "      <td>1031</td>\n",
       "      <td>2023-01-25 10:00:00</td>\n",
       "    </tr>\n",
       "    <tr>\n",
       "      <th>21</th>\n",
       "      <td>122</td>\n",
       "      <td>1500</td>\n",
       "      <td>Transfer</td>\n",
       "      <td>1032</td>\n",
       "      <td>2023-01-25 11:00:00</td>\n",
       "    </tr>\n",
       "    <tr>\n",
       "      <th>22</th>\n",
       "      <td>123</td>\n",
       "      <td>1000</td>\n",
       "      <td>Withdrawal</td>\n",
       "      <td>1033</td>\n",
       "      <td>2023-01-25 12:00:00</td>\n",
       "    </tr>\n",
       "    <tr>\n",
       "      <th>23</th>\n",
       "      <td>124</td>\n",
       "      <td>3500</td>\n",
       "      <td>Purchase</td>\n",
       "      <td>1034</td>\n",
       "      <td>2023-01-25 13:00:00</td>\n",
       "    </tr>\n",
       "    <tr>\n",
       "      <th>24</th>\n",
       "      <td>125</td>\n",
       "      <td>4500</td>\n",
       "      <td>Transfer</td>\n",
       "      <td>1035</td>\n",
       "      <td>2023-01-25 14:00:00</td>\n",
       "    </tr>\n",
       "    <tr>\n",
       "      <th>25</th>\n",
       "      <td>126</td>\n",
       "      <td>2000</td>\n",
       "      <td>Purchase</td>\n",
       "      <td>1036</td>\n",
       "      <td>2023-01-26 10:00:00</td>\n",
       "    </tr>\n",
       "    <tr>\n",
       "      <th>26</th>\n",
       "      <td>127</td>\n",
       "      <td>1500</td>\n",
       "      <td>Transfer</td>\n",
       "      <td>1037</td>\n",
       "      <td>2023-01-26 11:00:00</td>\n",
       "    </tr>\n",
       "    <tr>\n",
       "      <th>27</th>\n",
       "      <td>128</td>\n",
       "      <td>3000</td>\n",
       "      <td>Withdrawal</td>\n",
       "      <td>1038</td>\n",
       "      <td>2023-01-26 12:00:00</td>\n",
       "    </tr>\n",
       "    <tr>\n",
       "      <th>28</th>\n",
       "      <td>129</td>\n",
       "      <td>4000</td>\n",
       "      <td>Purchase</td>\n",
       "      <td>1039</td>\n",
       "      <td>2023-01-26 13:00:00</td>\n",
       "    </tr>\n",
       "    <tr>\n",
       "      <th>29</th>\n",
       "      <td>130</td>\n",
       "      <td>5000</td>\n",
       "      <td>Transfer</td>\n",
       "      <td>1040</td>\n",
       "      <td>2023-01-26 14:00:00</td>\n",
       "    </tr>\n",
       "    <tr>\n",
       "      <th>30</th>\n",
       "      <td>131</td>\n",
       "      <td>2500</td>\n",
       "      <td>Purchase</td>\n",
       "      <td>1041</td>\n",
       "      <td>2023-01-27 10:00:00</td>\n",
       "    </tr>\n",
       "    <tr>\n",
       "      <th>31</th>\n",
       "      <td>132</td>\n",
       "      <td>3500</td>\n",
       "      <td>Transfer</td>\n",
       "      <td>1042</td>\n",
       "      <td>2023-01-27 11:00:00</td>\n",
       "    </tr>\n",
       "    <tr>\n",
       "      <th>32</th>\n",
       "      <td>133</td>\n",
       "      <td>1000</td>\n",
       "      <td>Withdrawal</td>\n",
       "      <td>1043</td>\n",
       "      <td>2023-01-27 12:00:00</td>\n",
       "    </tr>\n",
       "    <tr>\n",
       "      <th>33</th>\n",
       "      <td>134</td>\n",
       "      <td>1500</td>\n",
       "      <td>Purchase</td>\n",
       "      <td>1044</td>\n",
       "      <td>2023-01-27 13:00:00</td>\n",
       "    </tr>\n",
       "    <tr>\n",
       "      <th>34</th>\n",
       "      <td>135</td>\n",
       "      <td>3000</td>\n",
       "      <td>Transfer</td>\n",
       "      <td>1045</td>\n",
       "      <td>2023-01-27 14:00:00</td>\n",
       "    </tr>\n",
       "    <tr>\n",
       "      <th>35</th>\n",
       "      <td>136</td>\n",
       "      <td>700</td>\n",
       "      <td>Purchase</td>\n",
       "      <td>1046</td>\n",
       "      <td>2023-01-28 10:00:00</td>\n",
       "    </tr>\n",
       "    <tr>\n",
       "      <th>36</th>\n",
       "      <td>137</td>\n",
       "      <td>2000</td>\n",
       "      <td>Transfer</td>\n",
       "      <td>1047</td>\n",
       "      <td>2023-01-28 11:00:00</td>\n",
       "    </tr>\n",
       "    <tr>\n",
       "      <th>37</th>\n",
       "      <td>138</td>\n",
       "      <td>3000</td>\n",
       "      <td>Withdrawal</td>\n",
       "      <td>1048</td>\n",
       "      <td>2023-01-28 12:00:00</td>\n",
       "    </tr>\n",
       "    <tr>\n",
       "      <th>38</th>\n",
       "      <td>139</td>\n",
       "      <td>4000</td>\n",
       "      <td>Purchase</td>\n",
       "      <td>1049</td>\n",
       "      <td>2023-01-28 13:00:00</td>\n",
       "    </tr>\n",
       "    <tr>\n",
       "      <th>39</th>\n",
       "      <td>140</td>\n",
       "      <td>5000</td>\n",
       "      <td>Transfer</td>\n",
       "      <td>1050</td>\n",
       "      <td>2023-01-28 14:00:00</td>\n",
       "    </tr>\n",
       "    <tr>\n",
       "      <th>40</th>\n",
       "      <td>141</td>\n",
       "      <td>2500</td>\n",
       "      <td>Purchase</td>\n",
       "      <td>1051</td>\n",
       "      <td>2023-01-29 10:00:00</td>\n",
       "    </tr>\n",
       "    <tr>\n",
       "      <th>41</th>\n",
       "      <td>142</td>\n",
       "      <td>3500</td>\n",
       "      <td>Transfer</td>\n",
       "      <td>1052</td>\n",
       "      <td>2023-01-29 11:00:00</td>\n",
       "    </tr>\n",
       "    <tr>\n",
       "      <th>42</th>\n",
       "      <td>143</td>\n",
       "      <td>1000</td>\n",
       "      <td>Withdrawal</td>\n",
       "      <td>1053</td>\n",
       "      <td>2023-01-29 12:00:00</td>\n",
       "    </tr>\n",
       "    <tr>\n",
       "      <th>43</th>\n",
       "      <td>144</td>\n",
       "      <td>1500</td>\n",
       "      <td>Purchase</td>\n",
       "      <td>1054</td>\n",
       "      <td>2023-01-29 13:00:00</td>\n",
       "    </tr>\n",
       "    <tr>\n",
       "      <th>44</th>\n",
       "      <td>145</td>\n",
       "      <td>3000</td>\n",
       "      <td>Transfer</td>\n",
       "      <td>1055</td>\n",
       "      <td>2023-01-29 14:00:00</td>\n",
       "    </tr>\n",
       "    <tr>\n",
       "      <th>45</th>\n",
       "      <td>146</td>\n",
       "      <td>700</td>\n",
       "      <td>Purchase</td>\n",
       "      <td>1056</td>\n",
       "      <td>2023-01-30 10:00:00</td>\n",
       "    </tr>\n",
       "    <tr>\n",
       "      <th>46</th>\n",
       "      <td>147</td>\n",
       "      <td>2000</td>\n",
       "      <td>Transfer</td>\n",
       "      <td>1057</td>\n",
       "      <td>2023-01-30 11:00:00</td>\n",
       "    </tr>\n",
       "    <tr>\n",
       "      <th>47</th>\n",
       "      <td>148</td>\n",
       "      <td>3000</td>\n",
       "      <td>Withdrawal</td>\n",
       "      <td>1058</td>\n",
       "      <td>2023-01-30 12:00:00</td>\n",
       "    </tr>\n",
       "    <tr>\n",
       "      <th>48</th>\n",
       "      <td>149</td>\n",
       "      <td>4000</td>\n",
       "      <td>Purchase</td>\n",
       "      <td>1059</td>\n",
       "      <td>2023-01-30 13:00:00</td>\n",
       "    </tr>\n",
       "    <tr>\n",
       "      <th>49</th>\n",
       "      <td>150</td>\n",
       "      <td>5000</td>\n",
       "      <td>Transfer</td>\n",
       "      <td>1060</td>\n",
       "      <td>2023-01-30 14:00:00</td>\n",
       "    </tr>\n",
       "  </tbody>\n",
       "</table>\n",
       "</div>"
      ],
      "text/plain": [
       "    transaction_id  amount transaction_type  customer_id     transaction_time\n",
       "0              101    1500         Purchase         1011  2023-01-21 10:00:00\n",
       "1              102    2500         Transfer         1012  2023-01-21 11:00:00\n",
       "2              103    3000       Withdrawal         1013  2023-01-21 12:00:00\n",
       "3              104    4500         Purchase         1014  2023-01-21 13:00:00\n",
       "4              105    2000         Transfer         1015  2023-01-21 14:00:00\n",
       "5              106     700         Purchase         1016  2023-01-22 10:00:00\n",
       "6              107    1500         Transfer         1017  2023-01-22 11:00:00\n",
       "7              108    1000       Withdrawal         1018  2023-01-22 12:00:00\n",
       "8              109    3500         Purchase         1019  2023-01-22 13:00:00\n",
       "9              110    4500         Transfer         1020  2023-01-22 14:00:00\n",
       "10             111    2500         Purchase         1021  2023-01-23 10:00:00\n",
       "11             112    1500         Transfer         1022  2023-01-23 11:00:00\n",
       "12             113     500       Withdrawal         1023  2023-01-23 12:00:00\n",
       "13             114    4000         Purchase         1024  2023-01-23 13:00:00\n",
       "14             115    6000         Transfer         1025  2023-01-23 14:00:00\n",
       "15             116    3000         Purchase         1026  2023-01-24 10:00:00\n",
       "16             117    4500         Transfer         1027  2023-01-24 11:00:00\n",
       "17             118    2000       Withdrawal         1028  2023-01-24 12:00:00\n",
       "18             119    1500         Purchase         1029  2023-01-24 13:00:00\n",
       "19             120    5000         Transfer         1030  2023-01-24 14:00:00\n",
       "20             121     700         Purchase         1031  2023-01-25 10:00:00\n",
       "21             122    1500         Transfer         1032  2023-01-25 11:00:00\n",
       "22             123    1000       Withdrawal         1033  2023-01-25 12:00:00\n",
       "23             124    3500         Purchase         1034  2023-01-25 13:00:00\n",
       "24             125    4500         Transfer         1035  2023-01-25 14:00:00\n",
       "25             126    2000         Purchase         1036  2023-01-26 10:00:00\n",
       "26             127    1500         Transfer         1037  2023-01-26 11:00:00\n",
       "27             128    3000       Withdrawal         1038  2023-01-26 12:00:00\n",
       "28             129    4000         Purchase         1039  2023-01-26 13:00:00\n",
       "29             130    5000         Transfer         1040  2023-01-26 14:00:00\n",
       "30             131    2500         Purchase         1041  2023-01-27 10:00:00\n",
       "31             132    3500         Transfer         1042  2023-01-27 11:00:00\n",
       "32             133    1000       Withdrawal         1043  2023-01-27 12:00:00\n",
       "33             134    1500         Purchase         1044  2023-01-27 13:00:00\n",
       "34             135    3000         Transfer         1045  2023-01-27 14:00:00\n",
       "35             136     700         Purchase         1046  2023-01-28 10:00:00\n",
       "36             137    2000         Transfer         1047  2023-01-28 11:00:00\n",
       "37             138    3000       Withdrawal         1048  2023-01-28 12:00:00\n",
       "38             139    4000         Purchase         1049  2023-01-28 13:00:00\n",
       "39             140    5000         Transfer         1050  2023-01-28 14:00:00\n",
       "40             141    2500         Purchase         1051  2023-01-29 10:00:00\n",
       "41             142    3500         Transfer         1052  2023-01-29 11:00:00\n",
       "42             143    1000       Withdrawal         1053  2023-01-29 12:00:00\n",
       "43             144    1500         Purchase         1054  2023-01-29 13:00:00\n",
       "44             145    3000         Transfer         1055  2023-01-29 14:00:00\n",
       "45             146     700         Purchase         1056  2023-01-30 10:00:00\n",
       "46             147    2000         Transfer         1057  2023-01-30 11:00:00\n",
       "47             148    3000       Withdrawal         1058  2023-01-30 12:00:00\n",
       "48             149    4000         Purchase         1059  2023-01-30 13:00:00\n",
       "49             150    5000         Transfer         1060  2023-01-30 14:00:00"
      ]
     },
     "execution_count": 90,
     "metadata": {},
     "output_type": "execute_result"
    }
   ],
   "source": [
    "import pandas as pd\n",
    "\n",
    "fraud_txn_dataframe = pd.read_csv('new_transactions.csv')\n",
    "fraud_txn_dataframe"
   ]
  },
  {
   "cell_type": "code",
   "execution_count": 93,
   "id": "1892fe1e-1738-4284-a8cd-507686d00ee2",
   "metadata": {},
   "outputs": [
    {
     "name": "stdout",
     "output_type": "stream",
     "text": [
      "<class 'pandas.core.frame.DataFrame'>\n",
      "RangeIndex: 10000 entries, 0 to 9999\n",
      "Data columns (total 11 columns):\n",
      " #   Column                Non-Null Count  Dtype  \n",
      "---  ------                --------------  -----  \n",
      " 0   Transaction_ID        10000 non-null  object \n",
      " 1   Customer_ID           10000 non-null  object \n",
      " 2   Transaction_Amount    10000 non-null  float64\n",
      " 3   Transaction_Type      10000 non-null  object \n",
      " 4   Transaction_Location  10000 non-null  object \n",
      " 5   Transaction_Time      10000 non-null  object \n",
      " 6   Device_Used           10000 non-null  object \n",
      " 7   Account_Age           10000 non-null  int64  \n",
      " 8   Credit_Score          10000 non-null  int64  \n",
      " 9   Previous_Fraud        10000 non-null  int64  \n",
      " 10  Is_Fraud              10000 non-null  int64  \n",
      "dtypes: float64(1), int64(4), object(6)\n",
      "memory usage: 859.5+ KB\n"
     ]
    }
   ],
   "source": [
    "import pandas as pd\n",
    "\n",
    "bank_fraud_txn_dataframe = pd.read_csv('banking_fraud_dataset.csv')\n",
    "bank_fraud_txn_dataframe.info()"
   ]
  },
  {
   "cell_type": "code",
   "execution_count": null,
   "id": "2348fdc8-8bb3-4b92-999d-3a05b1c82ba9",
   "metadata": {},
   "outputs": [],
   "source": []
  },
  {
   "cell_type": "code",
   "execution_count": null,
   "id": "c9947e8a-70de-4a91-b595-5f95c461ae4b",
   "metadata": {},
   "outputs": [],
   "source": []
  }
 ],
 "metadata": {
  "kernelspec": {
   "display_name": "Python [conda env:base] *",
   "language": "python",
   "name": "conda-base-py"
  },
  "language_info": {
   "codemirror_mode": {
    "name": "ipython",
    "version": 3
   },
   "file_extension": ".py",
   "mimetype": "text/x-python",
   "name": "python",
   "nbconvert_exporter": "python",
   "pygments_lexer": "ipython3",
   "version": "3.13.5"
  },
  "panel-cell-order": [
   "df0f86f8-3071-48f2-ab3b-d995b5aac4b9",
   "93574d1c-e50f-4d7c-ab1c-d818a5d31ce6"
  ]
 },
 "nbformat": 4,
 "nbformat_minor": 5
}
