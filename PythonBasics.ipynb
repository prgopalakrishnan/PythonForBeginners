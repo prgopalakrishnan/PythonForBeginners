{
 "cells": [
  {
   "cell_type": "markdown",
   "id": "98c31b29-4b4a-4ea2-9415-543221c7ac2a",
   "metadata": {},
   "source": [
    "#                                            Python Basics\n",
    "## Table of Contents\n",
    "- Data Types\n",
    "  - Integer - int\n",
    "  - Float - float\n",
    "  - String - str\n",
    "  - Boolean - bool\n",
    "- Operators\n",
    "  - Comparison Operators\n",
    "     - Equals ==\n",
    "     - Greater than >\n",
    "     - Greater than or equal to >=\n",
    "     - Less than <\n",
    "     - Less than or equal to <=\n",
    "     - Not Equal !=\n",
    "  - Logical Operators\n",
    "     - AND and\n",
    "     - OR or\n",
    "     - NOT not\n",
    "- Collections\n",
    "  - Lists - Define, Index, Add, Delete, Update\n",
    "  - Tuples - Define, Index, Add,Delete,Update not Supported\n",
    "  - Dictionaries - Define, Index, Add, Delete, Update\n"
   ]
  },
  {
   "cell_type": "markdown",
   "id": "9fd570e1-3143-4f8e-a04e-2f3b0c6bba0a",
   "metadata": {},
   "source": [
    "# Integer Type Play\n"
   ]
  },
  {
   "cell_type": "code",
   "execution_count": 6,
   "id": "9d9fd0e3-e3e6-4a17-b591-f180beec0d65",
   "metadata": {
    "scrolled": true
   },
   "outputs": [
    {
     "data": {
      "text/plain": [
       "int"
      ]
     },
     "execution_count": 6,
     "metadata": {},
     "output_type": "execute_result"
    }
   ],
   "source": [
    "x = 2\n",
    "type(x)"
   ]
  },
  {
   "cell_type": "code",
   "execution_count": 10,
   "id": "77a5614c-ff8a-49f1-b902-20da102027ea",
   "metadata": {},
   "outputs": [
    {
     "data": {
      "text/plain": [
       "int"
      ]
     },
     "execution_count": 10,
     "metadata": {},
     "output_type": "execute_result"
    }
   ],
   "source": [
    "type(2)"
   ]
  },
  {
   "cell_type": "markdown",
   "id": "a9251529-3c6d-46fa-9233-0d2fd9c184e1",
   "metadata": {},
   "source": [
    "# Float Type Play\n"
   ]
  },
  {
   "cell_type": "code",
   "execution_count": 7,
   "id": "18e1dd80-c4c4-4886-bc6d-26222f48a070",
   "metadata": {},
   "outputs": [
    {
     "data": {
      "text/plain": [
       "float"
      ]
     },
     "execution_count": 7,
     "metadata": {},
     "output_type": "execute_result"
    }
   ],
   "source": [
    "x = 3.0\n",
    "type(x)"
   ]
  },
  {
   "cell_type": "code",
   "execution_count": 11,
   "id": "c9f98b43-1672-4995-8280-f84d09a98021",
   "metadata": {},
   "outputs": [
    {
     "data": {
      "text/plain": [
       "float"
      ]
     },
     "execution_count": 11,
     "metadata": {},
     "output_type": "execute_result"
    }
   ],
   "source": [
    "type(3.0)"
   ]
  },
  {
   "cell_type": "markdown",
   "id": "d992703e-bfce-4add-976f-ecb638a035a5",
   "metadata": {},
   "source": [
    "# String Type Play"
   ]
  },
  {
   "cell_type": "code",
   "execution_count": 8,
   "id": "a5310647-323f-4027-afe5-012819bd8efc",
   "metadata": {},
   "outputs": [
    {
     "data": {
      "text/plain": [
       "str"
      ]
     },
     "execution_count": 8,
     "metadata": {},
     "output_type": "execute_result"
    }
   ],
   "source": [
    "x = \"Hello World\"\n",
    "type(x)"
   ]
  },
  {
   "cell_type": "code",
   "execution_count": 12,
   "id": "9733b20e-14d3-4c90-ab03-f5d075a1998b",
   "metadata": {},
   "outputs": [
    {
     "data": {
      "text/plain": [
       "str"
      ]
     },
     "execution_count": 12,
     "metadata": {},
     "output_type": "execute_result"
    }
   ],
   "source": [
    "type(\"Hello World\")"
   ]
  },
  {
   "cell_type": "markdown",
   "id": "666c38d2-dfd0-4f6a-9d49-526dd98b6703",
   "metadata": {},
   "source": [
    "# Boolean Type Play"
   ]
  },
  {
   "cell_type": "code",
   "execution_count": 9,
   "id": "937f3da2-3555-42c2-ad59-a0c143f9cb20",
   "metadata": {},
   "outputs": [
    {
     "data": {
      "text/plain": [
       "bool"
      ]
     },
     "execution_count": 9,
     "metadata": {},
     "output_type": "execute_result"
    }
   ],
   "source": [
    "x = False\n",
    "type(x)"
   ]
  },
  {
   "cell_type": "code",
   "execution_count": 13,
   "id": "0b7b6dc7-5786-4498-b3a2-bae38f8c5368",
   "metadata": {},
   "outputs": [
    {
     "data": {
      "text/plain": [
       "bool"
      ]
     },
     "execution_count": 13,
     "metadata": {},
     "output_type": "execute_result"
    }
   ],
   "source": [
    "type(True)"
   ]
  },
  {
   "cell_type": "markdown",
   "id": "793cdcb8-0716-41bd-b275-d02d89451288",
   "metadata": {},
   "source": [
    "# Equals == Operator Play"
   ]
  },
  {
   "cell_type": "code",
   "execution_count": 15,
   "id": "6255f553-9533-40dc-ab85-3d54d5ff2dbe",
   "metadata": {},
   "outputs": [
    {
     "name": "stdout",
     "output_type": "stream",
     "text": [
      "True\n",
      "False\n"
     ]
    }
   ],
   "source": [
    "x = 3\n",
    "y = 3\n",
    "z = 5\n",
    "print (x == y)\n",
    "print (x == z)"
   ]
  },
  {
   "cell_type": "markdown",
   "id": "02d21ef2-d1d1-4c1b-aa74-8cb5405407a3",
   "metadata": {},
   "source": [
    "# Greater than > Operator Play"
   ]
  },
  {
   "cell_type": "code",
   "execution_count": 17,
   "id": "882653ad-479f-46be-871e-3f185611d720",
   "metadata": {},
   "outputs": [
    {
     "name": "stdout",
     "output_type": "stream",
     "text": [
      "False\n"
     ]
    }
   ],
   "source": [
    "x = 5\n",
    "y = 9\n",
    "print(x > y)"
   ]
  },
  {
   "cell_type": "markdown",
   "id": "b1948cbb-ecc9-4cfd-9a3b-e8a98e0c79ab",
   "metadata": {},
   "source": [
    "# Greater than or equal to >= Operator Play\n",
    "    "
   ]
  },
  {
   "cell_type": "code",
   "execution_count": 18,
   "id": "9eb89618-bd99-4ea9-abcc-6c449db1fa93",
   "metadata": {},
   "outputs": [
    {
     "name": "stdout",
     "output_type": "stream",
     "text": [
      "False\n"
     ]
    }
   ],
   "source": [
    "x = 5\n",
    "y = 9\n",
    "print(x >= y)"
   ]
  },
  {
   "cell_type": "markdown",
   "id": "e91f8e96-5834-4b31-ade9-9ded693c3e5a",
   "metadata": {},
   "source": [
    "# Less than < Operator Play\n",
    "     "
   ]
  },
  {
   "cell_type": "code",
   "execution_count": 19,
   "id": "a37a196c-1e37-40b8-9f07-199795a6990c",
   "metadata": {},
   "outputs": [
    {
     "name": "stdout",
     "output_type": "stream",
     "text": [
      "True\n"
     ]
    }
   ],
   "source": [
    "x = 5\n",
    "y = 9\n",
    "print(x < y)"
   ]
  },
  {
   "cell_type": "markdown",
   "id": "3f06a2d0-ab9f-4fba-879d-7630a6300ce6",
   "metadata": {},
   "source": [
    "# Less than or equal to <= Operator Play\n",
    "    "
   ]
  },
  {
   "cell_type": "code",
   "execution_count": 20,
   "id": "5d8cec12-7236-44a4-ab55-6e8c4c343fcb",
   "metadata": {},
   "outputs": [
    {
     "name": "stdout",
     "output_type": "stream",
     "text": [
      "True\n"
     ]
    }
   ],
   "source": [
    "x = 5\n",
    "y = 9\n",
    "print(x <= y)"
   ]
  },
  {
   "cell_type": "markdown",
   "id": "8af2e6e5-e460-43b8-bd54-593ab85cb827",
   "metadata": {},
   "source": [
    "# Not Equal != Operator Play\n",
    " "
   ]
  },
  {
   "cell_type": "code",
   "execution_count": 21,
   "id": "e4a05017-dc92-4c14-af08-3f642ae8be32",
   "metadata": {},
   "outputs": [
    {
     "name": "stdout",
     "output_type": "stream",
     "text": [
      "True\n"
     ]
    }
   ],
   "source": [
    "x = 5\n",
    "y = 9\n",
    "print(x != y)"
   ]
  },
  {
   "cell_type": "markdown",
   "id": "20cdacd8-950f-4651-989b-7abdc607a1bf",
   "metadata": {},
   "source": [
    "# Logical Operators AND and Operator Play\n",
    "# and Truth Table\n",
    "\n",
    "Rule:\n",
    "If the first operand is falsy → return it.\n",
    "Otherwise → return the second operand.\n",
    "\n",
    "# x\t      y\t    x and y\n",
    "False\tFalse\tFalse\n",
    "False\tTrue\tFalse\n",
    "True\tFalse\tFalse\n",
    "True\tTrue\tTrue\n",
    "0\t    5\t    0\n",
    "5\t    0\t    0\n",
    "5\t    9\t    9\n",
    "\"\"\t   \"Hi\"\t    \"\"\n",
    "\"Hi\"   \"World\"\t\"World\""
   ]
  },
  {
   "cell_type": "code",
   "execution_count": 23,
   "id": "00e6527f-016f-4691-aaac-7328f223dee4",
   "metadata": {},
   "outputs": [
    {
     "name": "stdout",
     "output_type": "stream",
     "text": [
      "9\n"
     ]
    }
   ],
   "source": [
    "x = 5\n",
    "y = 9\n",
    "z = x and y\n",
    "print(z)"
   ]
  },
  {
   "cell_type": "markdown",
   "id": "943bcff9-8d2c-4086-bfe8-412ada630117",
   "metadata": {},
   "source": [
    "# Logical Operators OR or Operator Play\n",
    "# or Truth Table\n",
    "\n",
    "Rule:\n",
    "If the first operand is truthy → return it.\n",
    "Otherwise → return the second operand.\n",
    "\n",
    "x\t     y\t    x or y\n",
    "False\tFalse\tFalse\n",
    "False\tTrue\tTrue\n",
    "True\tFalse\tTrue\n",
    "True\tTrue\tTrue\n",
    "0\t    5\t    5\n",
    "5\t    0\t    5\n",
    "\"\"\t    \"Hi\"\t\"Hi\"\n",
    "\"Hi\"\t\"World\"\t\"Hi\""
   ]
  },
  {
   "cell_type": "code",
   "execution_count": 24,
   "id": "f4373420-2d8c-4b44-93fd-ab4cbef36920",
   "metadata": {},
   "outputs": [
    {
     "name": "stdout",
     "output_type": "stream",
     "text": [
      "5\n"
     ]
    }
   ],
   "source": [
    "x = 5\n",
    "y = 9\n",
    "z = x or y\n",
    "print(z)"
   ]
  },
  {
   "cell_type": "markdown",
   "id": "0c280510-a480-48b5-a101-15f7b4e1934b",
   "metadata": {},
   "source": [
    "# Logical Operators NOT not Operator Play\n",
    "# not Truth Table\n",
    "\n",
    "Rule: Always returns a Boolean (True/False), regardless of operand type.\n",
    "\n",
    "# x\t    not x\n",
    "False\tTrue\n",
    "True\tFalse\n",
    "0\t    True\n",
    "5\t    False\n",
    "\"\"\t    True\n",
    "\"Hi\"\tFalse"
   ]
  },
  {
   "cell_type": "code",
   "execution_count": 25,
   "id": "4c826411-fb68-4996-8cd9-41d6b7bf0660",
   "metadata": {},
   "outputs": [
    {
     "name": "stdout",
     "output_type": "stream",
     "text": [
      "False\n"
     ]
    }
   ],
   "source": [
    "x = 5\n",
    "z = not x\n",
    "print(z)"
   ]
  },
  {
   "cell_type": "markdown",
   "id": "11c83e78-3c86-45ff-981b-e1dbf27102b1",
   "metadata": {},
   "source": [
    "# Collections - Lists "
   ]
  },
  {
   "cell_type": "code",
   "execution_count": 32,
   "id": "71729cd1-bc76-4346-8d10-39a6effe8430",
   "metadata": {},
   "outputs": [
    {
     "name": "stdout",
     "output_type": "stream",
     "text": [
      "2\n"
     ]
    }
   ],
   "source": [
    "#define list\n",
    "numberlist = [1,2,3,4,5]\n",
    "\n",
    "#index list\n",
    "print(numberlist[1])"
   ]
  },
  {
   "cell_type": "code",
   "execution_count": 33,
   "id": "4c439414-437b-4278-be54-d259e5e3bb70",
   "metadata": {},
   "outputs": [
    {
     "name": "stdout",
     "output_type": "stream",
     "text": [
      "3\n"
     ]
    }
   ],
   "source": [
    "#define list of list\n",
    "listofList = [[\"a\",1], [\"b\",2], [\"c\",3]]\n",
    "\n",
    "#index list of list\n",
    "print(listofList[2][1])     "
   ]
  },
  {
   "cell_type": "code",
   "execution_count": 34,
   "id": "45cefda9-171c-44df-95d3-9f561b4044ab",
   "metadata": {},
   "outputs": [
    {
     "name": "stdout",
     "output_type": "stream",
     "text": [
      "[3, 4]\n"
     ]
    }
   ],
   "source": [
    "#copy part of one list to another\n",
    "list1 = [2,3,4,5]\n",
    "list2 = list1[1:3] #slice list - lower bound inclusive, upper bound exclusive\n",
    "print(list2)"
   ]
  },
  {
   "cell_type": "code",
   "execution_count": 35,
   "id": "2d7f71ab-c378-495e-ae19-229c25947683",
   "metadata": {},
   "outputs": [
    {
     "name": "stdout",
     "output_type": "stream",
     "text": [
      "[1, 2, 3, 4, 5, 6]\n"
     ]
    }
   ],
   "source": [
    "# Add to List\n",
    "list1 = [1,2,3,4]\n",
    "list2 = [5,6]\n",
    "list1 = list1 + list2;\n",
    "print(list1)"
   ]
  },
  {
   "cell_type": "code",
   "execution_count": 36,
   "id": "e584fc46-4b21-468f-aad6-6f4e736e8650",
   "metadata": {},
   "outputs": [
    {
     "name": "stdout",
     "output_type": "stream",
     "text": [
      "[1, 3, 4, 5, 6]\n"
     ]
    }
   ],
   "source": [
    "#Delete from list\n",
    "list1 = [1,2,3,4,5,6]\n",
    "del(list1[1])\n",
    "print(list1)"
   ]
  },
  {
   "cell_type": "code",
   "execution_count": 38,
   "id": "9b6417ff-dc8e-4008-bac9-6a44384b239f",
   "metadata": {},
   "outputs": [
    {
     "name": "stdout",
     "output_type": "stream",
     "text": [
      "[1, 7, 3, 4, 5, 6]\n"
     ]
    }
   ],
   "source": [
    "#Update list\n",
    "list = [1,2,3,4,5,6]\n",
    "list[1] = 7\n",
    "print(list)"
   ]
  },
  {
   "cell_type": "markdown",
   "id": "20baaabf-4fb3-4a29-9ce7-37720268f767",
   "metadata": {},
   "source": [
    "# Collections - Tuples\n",
    "Tuples are immutable while lists are mutable"
   ]
  },
  {
   "cell_type": "code",
   "execution_count": 40,
   "id": "e76d564d-0150-4041-b271-833c693c253f",
   "metadata": {},
   "outputs": [
    {
     "name": "stdout",
     "output_type": "stream",
     "text": [
      "2\n"
     ]
    }
   ],
   "source": [
    "#define Tuple\n",
    "numberTuple = (1,2,3,4,5)\n",
    "\n",
    "#index tuple\n",
    "print(numberTuple[1])"
   ]
  },
  {
   "cell_type": "code",
   "execution_count": 41,
   "id": "873471db-7d25-4106-966c-6de9c7d208fe",
   "metadata": {},
   "outputs": [
    {
     "name": "stdout",
     "output_type": "stream",
     "text": [
      "3\n"
     ]
    }
   ],
   "source": [
    "#define Tuple of Tuple\n",
    "tupleofTuple = ((\"a\",1), (\"b\",2), (\"c\",3))\n",
    "\n",
    "#index Tuple of Tuple\n",
    "print(tupleofTuple[2][1])  "
   ]
  },
  {
   "cell_type": "code",
   "execution_count": 44,
   "id": "658762ec-8c4b-42f6-b753-d2b902ca0b43",
   "metadata": {},
   "outputs": [
    {
     "name": "stdout",
     "output_type": "stream",
     "text": [
      "(3, 4)\n"
     ]
    }
   ],
   "source": [
    "#copy part of one tuple to another\n",
    "tuple1 = (2,3,4,5)\n",
    "tuple2 = tuple1[1:3] #slice list - lower bound inclusive, upper bound exclusive\n",
    "print(tuple2)"
   ]
  },
  {
   "cell_type": "code",
   "execution_count": 46,
   "id": "790c8cd3-4d33-4288-8ef0-24e653805dfc",
   "metadata": {},
   "outputs": [
    {
     "name": "stdout",
     "output_type": "stream",
     "text": [
      "(1, 2, 3, 4, 5, 6)\n"
     ]
    }
   ],
   "source": [
    "# Add to List\n",
    "tuple1 = (1,2,3,4)\n",
    "tuple2 = (5,6)\n",
    "tuple1 = tuple1 + tuple2;\n",
    "print(tuple1)"
   ]
  },
  {
   "cell_type": "code",
   "execution_count": 47,
   "id": "253d9d66-8767-452f-9636-074704e7a019",
   "metadata": {},
   "outputs": [
    {
     "ename": "TypeError",
     "evalue": "'tuple' object doesn't support item deletion",
     "output_type": "error",
     "traceback": [
      "\u001b[0;31m---------------------------------------------------------------------------\u001b[0m",
      "\u001b[0;31mTypeError\u001b[0m                                 Traceback (most recent call last)",
      "Cell \u001b[0;32mIn[47], line 3\u001b[0m\n\u001b[1;32m      1\u001b[0m \u001b[38;5;66;03m#Delete from list\u001b[39;00m\n\u001b[1;32m      2\u001b[0m tuple1 \u001b[38;5;241m=\u001b[39m (\u001b[38;5;241m1\u001b[39m,\u001b[38;5;241m2\u001b[39m,\u001b[38;5;241m3\u001b[39m,\u001b[38;5;241m4\u001b[39m,\u001b[38;5;241m5\u001b[39m,\u001b[38;5;241m6\u001b[39m)\n\u001b[0;32m----> 3\u001b[0m \u001b[38;5;28;01mdel\u001b[39;00m(tuple1[\u001b[38;5;241m1\u001b[39m])\n\u001b[1;32m      4\u001b[0m \u001b[38;5;28mprint\u001b[39m(tuple1)\n",
      "\u001b[0;31mTypeError\u001b[0m: 'tuple' object doesn't support item deletion"
     ]
    }
   ],
   "source": [
    "#Delete from list\n",
    "tuple1 = (1,2,3,4,5,6)\n",
    "del(tuple1[1]) #error thrown as tuple dosent support mutation\n",
    "print(tuple1)"
   ]
  },
  {
   "cell_type": "code",
   "execution_count": 48,
   "id": "60ba8237-dcec-4323-830a-e2680306cf13",
   "metadata": {},
   "outputs": [
    {
     "ename": "TypeError",
     "evalue": "'tuple' object does not support item assignment",
     "output_type": "error",
     "traceback": [
      "\u001b[0;31m---------------------------------------------------------------------------\u001b[0m",
      "\u001b[0;31mTypeError\u001b[0m                                 Traceback (most recent call last)",
      "Cell \u001b[0;32mIn[48], line 3\u001b[0m\n\u001b[1;32m      1\u001b[0m \u001b[38;5;66;03m#Update tuple - throws error\u001b[39;00m\n\u001b[1;32m      2\u001b[0m \u001b[38;5;28mtuple\u001b[39m \u001b[38;5;241m=\u001b[39m (\u001b[38;5;241m1\u001b[39m,\u001b[38;5;241m2\u001b[39m,\u001b[38;5;241m3\u001b[39m,\u001b[38;5;241m4\u001b[39m,\u001b[38;5;241m5\u001b[39m,\u001b[38;5;241m6\u001b[39m)\n\u001b[0;32m----> 3\u001b[0m \u001b[38;5;28mtuple\u001b[39m[\u001b[38;5;241m1\u001b[39m] \u001b[38;5;241m=\u001b[39m \u001b[38;5;241m7\u001b[39m\n\u001b[1;32m      4\u001b[0m \u001b[38;5;28mprint\u001b[39m(\u001b[38;5;28mtuple\u001b[39m)\n",
      "\u001b[0;31mTypeError\u001b[0m: 'tuple' object does not support item assignment"
     ]
    }
   ],
   "source": [
    "#Update tuple - throws error\n",
    "tuple = (1,2,3,4,5,6)\n",
    "tuple[1] = 7\n",
    "print(tuple)"
   ]
  },
  {
   "cell_type": "code",
   "execution_count": 51,
   "id": "084ecc74-56b3-4b94-b4a3-20890f4189a0",
   "metadata": {},
   "outputs": [
    {
     "name": "stdout",
     "output_type": "stream",
     "text": [
      "2 1 2 3\n"
     ]
    }
   ],
   "source": [
    "#Assign tuple elements as variables\n",
    "tuple = (1,2,3)\n",
    "var1 = tuple[1]\n",
    "var2, var3, var4 = tuple\n",
    "print(var1, var2, var3, var4)"
   ]
  },
  {
   "cell_type": "markdown",
   "id": "989bc205-a051-4e50-ae23-2ff4faa3f7f7",
   "metadata": {},
   "source": [
    "# Collections - Dictionaries: key/value map"
   ]
  },
  {
   "cell_type": "code",
   "execution_count": 53,
   "id": "76f3e8f0-5c19-4458-9af0-ecf5f189f409",
   "metadata": {},
   "outputs": [
    {
     "name": "stdout",
     "output_type": "stream",
     "text": [
      "1\n"
     ]
    }
   ],
   "source": [
    "#define dictionaries\n",
    "dict = {\"a\":1,\n",
    "        \"b\":2,\n",
    "        \"c\":3,\n",
    "        \"d\":4,\n",
    "        \"e\":5\n",
    "       }\n",
    "\n",
    "#index dict\n",
    "print(dict[\"a\"])"
   ]
  },
  {
   "cell_type": "code",
   "execution_count": 56,
   "id": "cbf50b5f-e5bd-4600-b819-d3cada2f4945",
   "metadata": {},
   "outputs": [
    {
     "name": "stdout",
     "output_type": "stream",
     "text": [
      "Bangalore\n"
     ]
    }
   ],
   "source": [
    "#define dict of dict\n",
    "dictofDict = { \n",
    " \"Cars\":\n",
    "    {\"honda\":\"grey\",\n",
    "     \"maruti\":\"white\",\n",
    "     \"jeep\":\"black\"\n",
    "    },\n",
    " \"Countries\":\n",
    "     {\"US\":\"Washington\",\n",
    "      \"india\":\"Bangalore\"\n",
    "     }\n",
    "}\n",
    "    \n",
    "\n",
    "#index dict of dict\n",
    "print(dictofDict[\"Countries\"][\"india\"])     "
   ]
  },
  {
   "cell_type": "code",
   "execution_count": 58,
   "id": "f232b238-c3bf-417b-bb20-16cbdc4028ba",
   "metadata": {},
   "outputs": [
    {
     "name": "stdout",
     "output_type": "stream",
     "text": [
      "{'a': 1, 'b': 2, 'c': 3, 'd': 4, 'e': 5}\n"
     ]
    }
   ],
   "source": [
    "# Add to dict\n",
    "dict1 = {\"a\":1, \"b\":2, \"c\":3}\n",
    "dict2 = {\"d\":4, \"e\":5}\n",
    "dict1 = dict1 | dict2;\n",
    "print(dict1)"
   ]
  },
  {
   "cell_type": "code",
   "execution_count": 60,
   "id": "8dcac17b-c866-4895-86b5-85e34cf192b4",
   "metadata": {},
   "outputs": [
    {
     "name": "stdout",
     "output_type": "stream",
     "text": [
      "{'a': 1, 'c': 3}\n"
     ]
    }
   ],
   "source": [
    "#Delete from dict\n",
    "dict1 = {\"a\":1, \"b\":2, \"c\":3}\n",
    "del(dict1[\"b\"])\n",
    "print(dict1)"
   ]
  },
  {
   "cell_type": "code",
   "execution_count": 61,
   "id": "ee899459-7cac-4326-88a9-4c6b47822eb2",
   "metadata": {},
   "outputs": [
    {
     "name": "stdout",
     "output_type": "stream",
     "text": [
      "{'a': 1, 'b': 7, 'c': 3}\n"
     ]
    }
   ],
   "source": [
    "#Update dict\n",
    "dict = {\"a\":1, \"b\":2, \"c\":3}\n",
    "dict[\"b\"] = 7\n",
    "print(dict)"
   ]
  },
  {
   "cell_type": "code",
   "execution_count": null,
   "id": "2348fdc8-8bb3-4b92-999d-3a05b1c82ba9",
   "metadata": {},
   "outputs": [],
   "source": []
  },
  {
   "cell_type": "code",
   "execution_count": null,
   "id": "c9947e8a-70de-4a91-b595-5f95c461ae4b",
   "metadata": {},
   "outputs": [],
   "source": []
  }
 ],
 "metadata": {
  "kernelspec": {
   "display_name": "Python [conda env:base] *",
   "language": "python",
   "name": "conda-base-py"
  },
  "language_info": {
   "codemirror_mode": {
    "name": "ipython",
    "version": 3
   },
   "file_extension": ".py",
   "mimetype": "text/x-python",
   "name": "python",
   "nbconvert_exporter": "python",
   "pygments_lexer": "ipython3",
   "version": "3.13.5"
  },
  "panel-cell-order": [
   "df0f86f8-3071-48f2-ab3b-d995b5aac4b9",
   "93574d1c-e50f-4d7c-ab1c-d818a5d31ce6"
  ]
 },
 "nbformat": 4,
 "nbformat_minor": 5
}
